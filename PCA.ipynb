{
 "cells": [
  {
   "cell_type": "code",
   "execution_count": 1,
   "metadata": {},
   "outputs": [],
   "source": [
    "import pyPI as pi\n",
    "import numpy as np\n",
    "from scipy.linalg import eig\n",
    "import sympy as sp\n",
    "from scipy.optimize import minimize"
   ]
  },
  {
   "cell_type": "code",
   "execution_count": 2,
   "metadata": {},
   "outputs": [
    {
     "data": {
      "text/plain": [
       "array([[0.99710284-0.01456502j, 0.01456502+0.0732233j ],\n",
       "       [0.01456502+0.0732233j , 0.9267767 -0.36811841j]])"
      ]
     },
     "execution_count": 2,
     "metadata": {},
     "output_type": "execute_result"
    }
   ],
   "source": [
    "# Vectores de entrada y salida\n",
    "E_in = pi.polarization_basis_set('L')\n",
    "S = pi.jones_matrix(np.pi/8, np.pi/16)\n",
    "E_out = S @ E_in\n",
    "S"
   ]
  },
  {
   "cell_type": "code",
   "execution_count": 3,
   "metadata": {},
   "outputs": [
    {
     "name": "stdout",
     "output_type": "stream",
     "text": [
      "α: 0.0625π\n"
     ]
    }
   ],
   "source": [
    "# Componentes principale\n",
    "# Cálculo de autovalores y autovectores\n",
    "eigenvalues, eigenvectors = eig(S)\n",
    "\n",
    "# Determinación de alpha a partir del autovector principal\n",
    "alpha_calculado = np.arctan2(np.real(eigenvectors[1, 0]), np.real(eigenvectors[0, 0]))\n",
    "\n",
    "# Resultados\n",
    "#print(\"Autovector principal (dirección dominante):\\n\", eigenvectors[:, 0])\n",
    "print(f\"α: {alpha_calculado/np.pi:.4f}π\")"
   ]
  },
  {
   "cell_type": "code",
   "execution_count": 4,
   "metadata": {},
   "outputs": [
    {
     "name": "stdout",
     "output_type": "stream",
     "text": [
      "χ: 0.1250π\n",
      "α: 0.0625π\n"
     ]
    }
   ],
   "source": [
    "# Matriz por minimizacion\n",
    "optimal_delta_chi, optimal_alpha = pi.birefringence_by_minimization(E_in, E_out, p = True)"
   ]
  },
  {
   "cell_type": "code",
   "execution_count": 10,
   "metadata": {},
   "outputs": [
    {
     "name": "stdout",
     "output_type": "stream",
     "text": [
      "Matriz A determinada:\n",
      "[[0.99710284-0.01456502j 0.01456502+0.0732233j ]\n",
      " [0.01456502+0.0732233j  0.9267767 -0.36811841j]]\n"
     ]
    }
   ],
   "source": [
    "import numpy as np\n",
    "\n",
    "def determine_A(x_vectors, b_vectors):\n",
    "    if len(x_vectors) != len(b_vectors):\n",
    "        raise ValueError(\"Las listas de vectores deben tener la misma longitud.\")\n",
    "\n",
    "    M = np.vstack([np.kron(np.eye(2), xi.T) for xi in x_vectors])\n",
    "    B = np.vstack(b_vectors)\n",
    "\n",
    "    A_vector, residuals, rank, s = np.linalg.lstsq(M, B, rcond=None)\n",
    "    A = A_vector.reshape(2, 2)\n",
    "\n",
    "    return A\n",
    "\n",
    "\n",
    "# Ejemplo de uso con vectores específicos:\n",
    "x_1 = pi.polarization_basis_set('L')\n",
    "x_2 = pi.polarization_basis_set('H')\n",
    "\n",
    "b_1 = S @ x_1\n",
    "b_2 = S @ x_2\n",
    "\n",
    "x_vectors = [x_1, x_2]\n",
    "b_vectors = [b_1, b_2]\n",
    "\n",
    "A = determine_A(x_vectors, b_vectors)\n",
    "\n",
    "print(\"Matriz A determinada:\")\n",
    "print(A)\n"
   ]
  },
  {
   "cell_type": "code",
   "execution_count": 11,
   "metadata": {},
   "outputs": [
    {
     "name": "stdout",
     "output_type": "stream",
     "text": [
      "Matriz S de la muestra:\n",
      "[[0.99710284-0.01456502j 0.01456502+0.0732233j ]\n",
      " [0.01456502+0.0732233j  0.9267767 -0.36811841j]]\n"
     ]
    }
   ],
   "source": [
    "print(\"Matriz S de la muestra:\")\n",
    "print(A)"
   ]
  },
  {
   "cell_type": "code",
   "execution_count": 12,
   "metadata": {},
   "outputs": [
    {
     "name": "stdout",
     "output_type": "stream",
     "text": [
      "α: 0.0625π\n"
     ]
    }
   ],
   "source": [
    "eigenvalues, eigenvectors = eig(A)\n",
    "\n",
    "# Determinación de alpha a partir del autovector principal\n",
    "alpha_calculado = np.arctan2(np.real(eigenvectors[1, 0]), np.real(eigenvectors[0, 0]))\n",
    "\n",
    "# Resultados\n",
    "#print(\"Autovector principal (dirección dominante):\\n\", eigenvectors[:, 0])\n",
    "print(f\"α: {alpha_calculado/np.pi:.4f}π\")"
   ]
  }
 ],
 "metadata": {
  "kernelspec": {
   "display_name": "base",
   "language": "python",
   "name": "python3"
  },
  "language_info": {
   "codemirror_mode": {
    "name": "ipython",
    "version": 3
   },
   "file_extension": ".py",
   "mimetype": "text/x-python",
   "name": "python",
   "nbconvert_exporter": "python",
   "pygments_lexer": "ipython3",
   "version": "3.12.4"
  }
 },
 "nbformat": 4,
 "nbformat_minor": 2
}
