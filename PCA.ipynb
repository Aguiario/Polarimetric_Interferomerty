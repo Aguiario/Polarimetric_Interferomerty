{
 "cells": [
  {
   "cell_type": "code",
   "execution_count": 57,
   "metadata": {},
   "outputs": [],
   "source": [
    "import pyPI as pi\n",
    "import numpy as np\n",
    "from scipy.linalg import eig\n",
    "import sympy as sp\n",
    "from scipy.optimize import minimize"
   ]
  },
  {
   "cell_type": "code",
   "execution_count": 58,
   "metadata": {},
   "outputs": [
    {
     "data": {
      "text/plain": [
       "array([[0.99710284-0.01456502j, 0.01456502+0.0732233j ],\n",
       "       [0.01456502+0.0732233j , 0.9267767 -0.36811841j]])"
      ]
     },
     "execution_count": 58,
     "metadata": {},
     "output_type": "execute_result"
    }
   ],
   "source": [
    "# Vectores de entrada y salida\n",
    "E_in = pi.polarization_basis_set('L')\n",
    "S = pi.jones_matrix(np.pi/8, np.pi/16)\n",
    "E_out = S @ E_in\n",
    "S"
   ]
  },
  {
   "cell_type": "code",
   "execution_count": 59,
   "metadata": {},
   "outputs": [
    {
     "name": "stdout",
     "output_type": "stream",
     "text": [
      "α (dominant direction): 0.0625π\n",
      "\n"
     ]
    }
   ],
   "source": [
    "# Eigenvalue and eigenvector calculation (Principal Component Analysis)\n",
    "eigenvalues, eigenvectors = eig(S)\n",
    "\n",
    "# Determine alpha (angle) from the dominant eigenvector\n",
    "alpha = np.arctan2(np.real(eigenvectors[1, 0]), np.real(eigenvectors[0, 0]))\n",
    "\n",
    "print(f\"α (dominant direction): {alpha / np.pi:.4f}π\\n\")"
   ]
  },
  {
   "cell_type": "code",
   "execution_count": 60,
   "metadata": {},
   "outputs": [
    {
     "name": "stdout",
     "output_type": "stream",
     "text": [
      "Determined matrix A:\n",
      "[[0.99710284-0.01456502j 0.01456502+0.0732233j ]\n",
      " [0.01456502+0.0732233j  0.9267767 -0.36811841j]] \n",
      "\n",
      "α (dominant direction): 0.0625π\n",
      "\n"
     ]
    }
   ],
   "source": [
    "# Ejemplo de uso con vectores específicos:\n",
    "x_1 = E_in\n",
    "x_2 = pi.polarization_basis_set('H')\n",
    "\n",
    "b_1 = E_out\n",
    "b_2 = S @ x_2\n",
    "\n",
    "x_vectors = [x_1, x_2]\n",
    "b_vectors = [b_1, b_2]\n",
    "\n",
    "A, alpha_calculated = pi.determine_A(x_vectors, b_vectors, p=True)"
   ]
  },
  {
   "cell_type": "code",
   "execution_count": 61,
   "metadata": {},
   "outputs": [
    {
     "name": "stdout",
     "output_type": "stream",
     "text": [
      "χ: 0.1250π\n",
      "α: 0.0625π\n"
     ]
    }
   ],
   "source": [
    "# Matriz por minimizacion\n",
    "optimal_delta_chi, optimal_alpha = pi.birefringence_by_minimization(E_in, E_out, p = True)"
   ]
  },
  {
   "cell_type": "code",
   "execution_count": 62,
   "metadata": {},
   "outputs": [
    {
     "name": "stdout",
     "output_type": "stream",
     "text": [
      "α original: 0.0625π\n",
      "\n",
      "α calculated: 0.0625π\n",
      "\n",
      "α by minimization: 0.0625π\n",
      "\n"
     ]
    }
   ],
   "source": [
    "print(f\"α original: {alpha / np.pi:.4f}π\\n\")\n",
    "print(f\"α calculated: {alpha_calculated / np.pi:.4f}π\\n\")\n",
    "print(f\"α by minimization: {optimal_alpha / np.pi:.4f}π\\n\")"
   ]
  },
  {
   "cell_type": "code",
   "execution_count": null,
   "metadata": {},
   "outputs": [
    {
     "ename": "TypeError",
     "evalue": "int() argument must be a string, a bytes-like object or a real number, not 'dict'",
     "output_type": "error",
     "traceback": [
      "\u001b[1;31m---------------------------------------------------------------------------\u001b[0m",
      "\u001b[1;31mTypeError\u001b[0m                                 Traceback (most recent call last)",
      "Cell \u001b[1;32mIn[66], line 34\u001b[0m\n\u001b[0;32m     22\u001b[0m values \u001b[38;5;241m=\u001b[39m {\n\u001b[0;32m     23\u001b[0m     alpha: alpha_calculated,\n\u001b[0;32m     24\u001b[0m     A_isx: np\u001b[38;5;241m.\u001b[39mabs(E_in[\u001b[38;5;241m0\u001b[39m,\u001b[38;5;241m0\u001b[39m]),\n\u001b[1;32m   (...)\u001b[0m\n\u001b[0;32m     30\u001b[0m     phi_sy: np\u001b[38;5;241m.\u001b[39mangle(E_out[\u001b[38;5;241m1\u001b[39m,\u001b[38;5;241m0\u001b[39m])\n\u001b[0;32m     31\u001b[0m }\n\u001b[0;32m     33\u001b[0m \u001b[38;5;66;03m# Resolviendo para delta_chi\u001b[39;00m\n\u001b[1;32m---> 34\u001b[0m solution \u001b[38;5;241m=\u001b[39m sp\u001b[38;5;241m.\u001b[39msolve([eq1\u001b[38;5;241m.\u001b[39mevalf(values), eq2\u001b[38;5;241m.\u001b[39mevalf(values)], delta_chi)\n\u001b[0;32m     36\u001b[0m \u001b[38;5;66;03m# Mostrar la solución\u001b[39;00m\n\u001b[0;32m     37\u001b[0m \u001b[38;5;28mprint\u001b[39m(\u001b[38;5;124m\"\u001b[39m\u001b[38;5;124mSolución para delta_chi:\u001b[39m\u001b[38;5;124m\"\u001b[39m, solution)\n",
      "File \u001b[1;32mc:\\ProgramData\\anaconda3\\Lib\\site-packages\\sympy\\core\\evalf.py:1639\u001b[0m, in \u001b[0;36mEvalfMixin.evalf\u001b[1;34m(self, n, subs, maxn, chop, strict, quad, verbose)\u001b[0m\n\u001b[0;32m   1637\u001b[0m \u001b[38;5;28;01mif\u001b[39;00m \u001b[38;5;129;01mnot\u001b[39;00m evalf_table:\n\u001b[0;32m   1638\u001b[0m     _create_evalf_table()\n\u001b[1;32m-> 1639\u001b[0m prec \u001b[38;5;241m=\u001b[39m dps_to_prec(n)\n\u001b[0;32m   1640\u001b[0m options \u001b[38;5;241m=\u001b[39m {\u001b[38;5;124m'\u001b[39m\u001b[38;5;124mmaxprec\u001b[39m\u001b[38;5;124m'\u001b[39m: \u001b[38;5;28mmax\u001b[39m(prec, \u001b[38;5;28mint\u001b[39m(maxn\u001b[38;5;241m*\u001b[39mLG10)), \u001b[38;5;124m'\u001b[39m\u001b[38;5;124mchop\u001b[39m\u001b[38;5;124m'\u001b[39m: chop,\n\u001b[0;32m   1641\u001b[0m        \u001b[38;5;124m'\u001b[39m\u001b[38;5;124mstrict\u001b[39m\u001b[38;5;124m'\u001b[39m: strict, \u001b[38;5;124m'\u001b[39m\u001b[38;5;124mverbose\u001b[39m\u001b[38;5;124m'\u001b[39m: verbose}\n\u001b[0;32m   1642\u001b[0m \u001b[38;5;28;01mif\u001b[39;00m subs \u001b[38;5;129;01mis\u001b[39;00m \u001b[38;5;129;01mnot\u001b[39;00m \u001b[38;5;28;01mNone\u001b[39;00m:\n",
      "File \u001b[1;32mc:\\ProgramData\\anaconda3\\Lib\\site-packages\\mpmath\\libmp\\libmpf.py:67\u001b[0m, in \u001b[0;36mdps_to_prec\u001b[1;34m(n)\u001b[0m\n\u001b[0;32m     64\u001b[0m \u001b[38;5;28;01mdef\u001b[39;00m \u001b[38;5;21mdps_to_prec\u001b[39m(n):\n\u001b[0;32m     65\u001b[0m \u001b[38;5;250m    \u001b[39m\u001b[38;5;124;03m\"\"\"Return the number of bits required to represent n decimals\u001b[39;00m\n\u001b[0;32m     66\u001b[0m \u001b[38;5;124;03m    accurately.\"\"\"\u001b[39;00m\n\u001b[1;32m---> 67\u001b[0m     \u001b[38;5;28;01mreturn\u001b[39;00m \u001b[38;5;28mmax\u001b[39m(\u001b[38;5;241m1\u001b[39m, \u001b[38;5;28mint\u001b[39m(\u001b[38;5;28mround\u001b[39m((\u001b[38;5;28mint\u001b[39m(n)\u001b[38;5;241m+\u001b[39m\u001b[38;5;241m1\u001b[39m)\u001b[38;5;241m*\u001b[39m\u001b[38;5;241m3.3219280948873626\u001b[39m)))\n",
      "\u001b[1;31mTypeError\u001b[0m: int() argument must be a string, a bytes-like object or a real number, not 'dict'"
     ]
    }
   ],
   "source": [
    "import sympy as sp\n",
    "\n",
    "# Definición de variables simbólicas\n",
    "delta_chi = sp.Symbol('delta_chi', real=True)  # Incógnita\n",
    "alpha = sp.Symbol('alpha', real=True)\n",
    "A_isx, A_isy = sp.symbols('A_isx A_isy', real=True)\n",
    "delta_phi_is = sp.Symbol('delta_phi_is', real=True)\n",
    "A_sx, phi_sx, A_sy, phi_sy = sp.symbols('A_sx phi_sx A_sy phi_sy', real=True)\n",
    "\n",
    "# Expresiones de las ecuaciones\n",
    "S_xx = (sp.cos(alpha)**2 + sp.exp(-1j * delta_chi) * sp.sin(alpha)**2) * A_isx\n",
    "S_xy = ((1 - sp.exp(-1j * delta_chi)) * sp.cos(alpha) * sp.sin(alpha)) * A_isy * sp.exp(1j * delta_phi_is)\n",
    "\n",
    "S_yx = ((1 - sp.exp(-1j * delta_chi)) * sp.cos(alpha) * sp.sin(alpha)) * A_isx\n",
    "S_yy = (sp.sin(alpha)**2 + sp.exp(-1j * delta_chi) * sp.cos(alpha)**2) * A_isy * sp.exp(1j * delta_phi_is)\n",
    "\n",
    "# Ecuaciones completas\n",
    "eq1 = sp.Eq(A_sx * sp.exp(1j * phi_sx), S_xx + S_xy)\n",
    "eq2 = sp.Eq(A_sy * sp.exp(1j * phi_sy), S_yx + S_yy)\n",
    "\n",
    "# Asignación de valores específicos\n",
    "values = {\n",
    "    alpha: alpha_calculated,\n",
    "    A_isx: np.abs(E_in[0,0]),\n",
    "    A_isy: np.abs(E_in[1,0]),\n",
    "    delta_phi_is: np.angle(E_in[1,0]),\n",
    "    A_sx: np.abs(E_out[0,0]),\n",
    "    phi_sx: np.angle(E_out[0,0]),\n",
    "    A_sy: np.abs(E_out[1,0]),\n",
    "    phi_sy: np.angle(E_out[1,0])\n",
    "}\n",
    "\n",
    "# Resolviendo para delta_chi\n",
    "solution = sp.solve([eq1.subs(values), eq2.subs(values)], delta_chi)\n",
    "\n",
    "# Mostrar la solución\n",
    "print(\"Solución para delta_chi:\", solution)\n"
   ]
  },
  {
   "cell_type": "code",
   "execution_count": 64,
   "metadata": {},
   "outputs": [
    {
     "data": {
      "text/plain": [
       "{alpha: 0.19634954084936196,\n",
       " A_isx: 0.7071067811865475,\n",
       " A_isy: 0.7071067811865475,\n",
       " delta_phi_is: 1.5707963267948966,\n",
       " A_sx: 0.6532814824381882,\n",
       " phi_sx: 2.655399735964416e-18,\n",
       " A_sy: 0.757115119848602,\n",
       " phi_sy: 1.205306570826704}"
      ]
     },
     "execution_count": 64,
     "metadata": {},
     "output_type": "execute_result"
    }
   ],
   "source": [
    "values"
   ]
  }
 ],
 "metadata": {
  "kernelspec": {
   "display_name": "base",
   "language": "python",
   "name": "python3"
  },
  "language_info": {
   "codemirror_mode": {
    "name": "ipython",
    "version": 3
   },
   "file_extension": ".py",
   "mimetype": "text/x-python",
   "name": "python",
   "nbconvert_exporter": "python",
   "pygments_lexer": "ipython3",
   "version": "3.12.4"
  }
 },
 "nbformat": 4,
 "nbformat_minor": 2
}
