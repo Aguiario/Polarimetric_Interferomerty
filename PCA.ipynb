{
 "cells": [
  {
   "cell_type": "code",
   "execution_count": 15,
   "metadata": {},
   "outputs": [],
   "source": [
    "import pyPI as pi"
   ]
  },
  {
   "cell_type": "code",
   "execution_count": 2,
   "metadata": {},
   "outputs": [
    {
     "name": "stdout",
     "output_type": "stream",
     "text": [
      "Matriz evaluada:\n",
      "[[0.75-0.4330127j 0.25+0.4330127j]\n",
      " [0.25+0.4330127j 0.75-0.4330127j]]\n",
      "\n",
      "Autovalores (componentes principales):\n",
      "[1. +1.11022302e-16j 0.5-8.66025404e-01j]\n",
      "\n",
      "Autovectores (direcciones principales):\n",
      "[[ 0.70710678+0.00000000e+00j -0.70710678+1.11022302e-16j]\n",
      " [ 0.70710678+5.55111512e-17j  0.70710678+0.00000000e+00j]]\n"
     ]
    }
   ],
   "source": [
    "import numpy as np\n",
    "from scipy.linalg import eig\n",
    "import sympy as sp\n",
    "\n",
    "# Definición simbólica de la matriz\n",
    "alpha, Delta_chi = sp.symbols('alpha Delta_chi', real=True)\n",
    "M_alpha = sp.Matrix([\n",
    "    [sp.cos(alpha)**2 + sp.exp(-1j*Delta_chi)*sp.sin(alpha)**2, (1 - sp.exp(-1j*Delta_chi))*sp.cos(alpha)*sp.sin(alpha)],\n",
    "    [(1 - sp.exp(-1j*Delta_chi))*sp.cos(alpha)*sp.sin(alpha), sp.sin(alpha)**2 + sp.exp(-1j*Delta_chi)*sp.cos(alpha)**2]\n",
    "])\n",
    "\n",
    "# Conversión a numpy (para cálculo numérico)\n",
    "def M_numeric(alpha_value, Delta_chi_value):\n",
    "    return np.array(M_alpha.subs({alpha: alpha_value, Delta_chi: Delta_chi_value})).astype(complex)\n",
    "\n",
    "# Parámetros de ejemplo\n",
    "alpha_value = np.pi / 4   # 45°\n",
    "Delta_chi_value = np.pi / 3  # 60° desfase\n",
    "\n",
    "# Matriz evaluada numéricamente\n",
    "M_eval = M_numeric(alpha_value, Delta_chi_value)\n",
    "\n",
    "# Cálculo de autovalores y autovectores\n",
    "eigenvalues, eigenvectors = eig(M_eval)\n",
    "\n",
    "# Resultados\n",
    "print(\"Matriz evaluada:\")\n",
    "print(M_eval)\n",
    "print(\"\\nAutovalores (componentes principales):\")\n",
    "print(eigenvalues)\n",
    "print(\"\\nAutovectores (direcciones principales):\")\n",
    "print(eigenvectors)\n"
   ]
  },
  {
   "cell_type": "code",
   "execution_count": 4,
   "metadata": {},
   "outputs": [
    {
     "data": {
      "image/png": "[encoded data removed]",
      "text/plain": [
       "<Figure size 600x600 with 1 Axes>"
      ]
     },
     "metadata": {},
     "output_type": "display_data"
    }
   ],
   "source": [
    "import matplotlib.pyplot as plt\n",
    "\n",
    "# Visualización\n",
    "plt.figure(figsize=(6, 6))\n",
    "plt.quiver(0, 0, np.real(eigenvectors[0, 0]), np.real(eigenvectors[1, 0]), angles='xy', scale_units='xy', scale=1, color='r', label='Componente Principal 1')\n",
    "plt.quiver(0, 0, np.real(eigenvectors[0, 1]), np.real(eigenvectors[1, 1]), angles='xy', scale_units='xy', scale=1, color='b', label='Componente Principal 2')\n",
    "\n",
    "plt.xlim(-1.5, 1.5)\n",
    "plt.ylim(-1.5, 1.5)\n",
    "plt.axhline(0, color='gray', linewidth=0.5)\n",
    "plt.axvline(0, color='gray', linewidth=0.5)\n",
    "plt.legend()\n",
    "\n",
    "# Corrección de la sintaxis LaTeX\n",
    "plt.title(r\"Componentes principales de la matriz $M_{\\alpha}$\")\n",
    "\n",
    "plt.grid(True)\n",
    "plt.show()"
   ]
  },
  {
   "cell_type": "code",
   "execution_count": 14,
   "metadata": {},
   "outputs": [
    {
     "name": "stdout",
     "output_type": "stream",
     "text": [
      "Autovector principal (dirección dominante):\n",
      " [0.99518473+0.00000000e+00j 0.09801714-7.63278329e-17j]\n",
      "Ángulo calculado para α: 5.62°\n"
     ]
    }
   ],
   "source": [
    "import numpy as np\n",
    "from scipy.linalg import eig\n",
    "import sympy as sp\n",
    "\n",
    "# Definición simbólica de la matriz\n",
    "alpha, Delta_chi = sp.symbols('alpha Delta_chi', real=True)\n",
    "M_alpha = sp.Matrix([\n",
    "    [sp.cos(alpha)**2 + sp.exp(-1j*Delta_chi)*sp.sin(alpha)**2, (1 - sp.exp(-1j*Delta_chi))*sp.cos(alpha)*sp.sin(alpha)],\n",
    "    [(1 - sp.exp(-1j*Delta_chi))*sp.cos(alpha)*sp.sin(alpha), sp.sin(alpha)**2 + sp.exp(-1j*Delta_chi)*sp.cos(alpha)**2]\n",
    "])\n",
    "\n",
    "# Conversión a numpy (para cálculo numérico)\n",
    "def M_numeric(alpha_value, Delta_chi_value):\n",
    "    return np.array(M_alpha.subs({alpha: alpha_value, Delta_chi: Delta_chi_value})).astype(complex)\n",
    "\n",
    "# Parámetros de ejemplo\n",
    "alpha_value = np.pi /32   # 45°\n",
    "Delta_chi_value = np.pi / 3  # 60° desfase\n",
    "\n",
    "# Matriz evaluada numéricamente\n",
    "M_eval = M_numeric(alpha_value, Delta_chi_value)\n",
    "\n",
    "# Cálculo de autovalores y autovectores\n",
    "eigenvalues, eigenvectors = eig(M_eval)\n",
    "\n",
    "# Determinación de alpha a partir del autovector principal\n",
    "alpha_calculado = np.arctan2(np.real(eigenvectors[1, 0]), np.real(eigenvectors[0, 0]))\n",
    "\n",
    "# Resultados\n",
    "print(\"Autovector principal (dirección dominante):\\n\", eigenvectors[:, 0])\n",
    "print(f\"Ángulo calculado para α: {np.degrees(alpha_calculado):.2f}°\")\n"
   ]
  },
  {
   "cell_type": "code",
   "execution_count": 94,
   "metadata": {},
   "outputs": [],
   "source": [
    "import numpy as np\n",
    "from scipy.linalg import lstsq\n",
    "import numpy as np\n",
    "from numpy.linalg import inv\n",
    "\n",
    "def calculate_matrix(input_vector, output_vector):\n",
    "    # Verificamos que las dimensiones sean correctas\n",
    "    if input_vector.shape != (2, 1) or output_vector.shape != (2, 1):\n",
    "        raise ValueError(\"Los vectores deben ser de dimensión 2x1.\")\n",
    "\n",
    "    # Construir la matriz A usando el producto externo\n",
    "    A = output_vector @ np.conjugate(input_vector.T)\n",
    "\n",
    "    return A"
   ]
  },
  {
   "cell_type": "code",
   "execution_count": 91,
   "metadata": {},
   "outputs": [],
   "source": [
    "import numpy as np\n",
    "\n",
    "def calcular_alpha_desde_matriz(M):\n",
    "    \"\"\"\n",
    "    Calcula el ángulo α a partir de una matriz de forma específica,\n",
    "    correspondiente a una matriz birrefringente.\n",
    "\n",
    "    Parámetros:\n",
    "    -----------\n",
    "    M : np.array\n",
    "        Matriz 2x2 compleja que sigue la estructura del modelo óptico.\n",
    "\n",
    "    Retorna:\n",
    "    --------\n",
    "    float\n",
    "        Ángulo α en grados.\n",
    "    \"\"\"\n",
    "    if M.shape != (2, 2):\n",
    "        raise ValueError(\"La matriz debe ser de dimensión 2x2.\")\n",
    "\n",
    "    # Extraer elementos de la matriz\n",
    "    M11, M12 = M[0, 0], M[0, 1]\n",
    "    M21, M22 = M[1, 0], M[1, 1]\n",
    "\n",
    "    # Determinación de α utilizando la relación adecuada\n",
    "    alpha_calculado = 0.5 * np.arctan2(2 * np.abs(M21), np.abs(M11 - M22))\n",
    "\n",
    "    return np.degrees(alpha_calculado)\n"
   ]
  },
  {
   "cell_type": "code",
   "execution_count": 92,
   "metadata": {},
   "outputs": [],
   "source": [
    "# Vectores de entrada y salida\n",
    "Int = pi.polarization_basis_set('L')\n",
    "Out = pi.field_notation(pi.jones_matrix(np.pi/2, np.pi/4) @ Int)"
   ]
  },
  {
   "cell_type": "code",
   "execution_count": 88,
   "metadata": {},
   "outputs": [
    {
     "data": {
      "text/plain": [
       "array([[0.+0.j],\n",
       "       [1.+0.j]])"
      ]
     },
     "execution_count": 88,
     "metadata": {},
     "output_type": "execute_result"
    }
   ],
   "source": [
    "Out"
   ]
  },
  {
   "cell_type": "code",
   "execution_count": 82,
   "metadata": {},
   "outputs": [
    {
     "data": {
      "text/plain": [
       "array([[0.5-0.5j, 0.5+0.5j],\n",
       "       [0.5+0.5j, 0.5-0.5j]])"
      ]
     },
     "execution_count": 82,
     "metadata": {},
     "output_type": "execute_result"
    }
   ],
   "source": [
    "pi.jones_matrix(np.pi/2, np.pi/4)"
   ]
  },
  {
   "cell_type": "code",
   "execution_count": 81,
   "metadata": {},
   "outputs": [
    {
     "data": {
      "text/plain": [
       "array([[0.+0.j],\n",
       "       [1.+0.j]])"
      ]
     },
     "execution_count": 81,
     "metadata": {},
     "output_type": "execute_result"
    }
   ],
   "source": [
    "pi.field_notation(Out)"
   ]
  },
  {
   "cell_type": "code",
   "execution_count": 95,
   "metadata": {},
   "outputs": [
    {
     "name": "stdout",
     "output_type": "stream",
     "text": [
      "Matriz resultante A:\n",
      "[[0.        +0.j         0.        +0.j        ]\n",
      " [0.70710678+0.j         0.        -0.70710678j]]\n",
      "\n",
      "Comprobación (A @ input_vector):\n",
      "[[0.+0.j]\n",
      " [1.+0.j]]\n"
     ]
    },
    {
     "data": {
      "text/plain": [
       "array([[0.+0.j],\n",
       "       [1.+0.j]])"
      ]
     },
     "execution_count": 95,
     "metadata": {},
     "output_type": "execute_result"
    }
   ],
   "source": [
    "# Calcular la matriz\n",
    "M = calculate_matrix(Int, Out)\n",
    "\n",
    "print(\"Matriz resultante A:\")\n",
    "print(M)\n",
    "\n",
    "# Comprobación\n",
    "calculated_output = pi.field_notation(M @ Int)\n",
    "print(\"\\nComprobación (A @ input_vector):\")\n",
    "print(calculated_output)\n",
    "Out"
   ]
  },
  {
   "cell_type": "code",
   "execution_count": 96,
   "metadata": {},
   "outputs": [
    {
     "data": {
      "text/plain": [
       "31.717474411461005"
      ]
     },
     "execution_count": 96,
     "metadata": {},
     "output_type": "execute_result"
    }
   ],
   "source": [
    "calcular_alpha_desde_matriz(M)"
   ]
  }
 ],
 "metadata": {
  "kernelspec": {
   "display_name": "base",
   "language": "python",
   "name": "python3"
  },
  "language_info": {
   "codemirror_mode": {
    "name": "ipython",
    "version": 3
   },
   "file_extension": ".py",
   "mimetype": "text/x-python",
   "name": "python",
   "nbconvert_exporter": "python",
   "pygments_lexer": "ipython3",
   "version": "3.12.4"
  }
 },
 "nbformat": 4,
 "nbformat_minor": 2
}
