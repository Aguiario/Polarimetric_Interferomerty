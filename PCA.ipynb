{
 "cells": [
  {
   "cell_type": "code",
   "execution_count": 29,
   "metadata": {},
   "outputs": [],
   "source": [
    "import pyPI as pi\n",
    "import numpy as np\n",
    "from scipy.linalg import eig\n",
    "import sympy as sp\n",
    "from scipy.optimize import minimize"
   ]
  },
  {
   "cell_type": "code",
   "execution_count": 30,
   "metadata": {},
   "outputs": [
    {
     "data": {
      "text/plain": [
       "array([[0.75-0.4330127j, 0.25+0.4330127j],\n",
       "       [0.25+0.4330127j, 0.75-0.4330127j]])"
      ]
     },
     "execution_count": 30,
     "metadata": {},
     "output_type": "execute_result"
    }
   ],
   "source": [
    "chi = np.pi/3\n",
    "alpha = np.pi/4\n",
    "\n",
    "# Vectores de entrada y salida\n",
    "E_is = pi.polarization_basis_set('L')\n",
    "S = pi.jones_matrix(chi, alpha)\n",
    "E_s = S @ E_is\n",
    "S"
   ]
  },
  {
   "cell_type": "code",
   "execution_count": 31,
   "metadata": {},
   "outputs": [
    {
     "name": "stdout",
     "output_type": "stream",
     "text": [
      "Determined matrix A:\n",
      "[[0.75-0.4330127j 0.25+0.4330127j]\n",
      " [0.25+0.4330127j 0.75-0.4330127j]] \n",
      "\n",
      "α (dominant direction): 0.2500π\n",
      "\n"
     ]
    }
   ],
   "source": [
    "# Ejemplo de uso con vectores específicos:\n",
    "x_1 = E_is\n",
    "x_2 = pi.polarization_basis_set('H')\n",
    "\n",
    "b_1 = E_s\n",
    "b_2 = S @ x_2\n",
    "\n",
    "x_vectors = [x_1, x_2]\n",
    "b_vectors = [b_1, b_2]\n",
    "\n",
    "A, alpha_calculated = pi.determine_A(x_vectors, b_vectors, p=True)"
   ]
  },
  {
   "cell_type": "code",
   "execution_count": 32,
   "metadata": {},
   "outputs": [
    {
     "name": "stdout",
     "output_type": "stream",
     "text": [
      "χ: 0.3333π\n",
      "α: 0.2500π\n"
     ]
    }
   ],
   "source": [
    "# Matriz por minimizacion\n",
    "optimal_delta_chi, optimal_alpha = pi.birefringence_by_minimization(E_is, E_s, p = True)"
   ]
  },
  {
   "cell_type": "code",
   "execution_count": 33,
   "metadata": {},
   "outputs": [
    {
     "name": "stdout",
     "output_type": "stream",
     "text": [
      "α original: 0.2500π\n",
      "\n",
      "α calculated: 0.2500π\n",
      "\n",
      "α by minimization: 0.2500π\n",
      "\n"
     ]
    }
   ],
   "source": [
    "print(f\"α original: {alpha / np.pi:.4f}π\\n\")\n",
    "print(f\"α calculated: {alpha_calculated / np.pi:.4f}π\\n\")\n",
    "print(f\"α by minimization: {optimal_alpha / np.pi:.4f}π\\n\")"
   ]
  },
  {
   "cell_type": "code",
   "execution_count": 34,
   "metadata": {},
   "outputs": [
    {
     "name": "stdout",
     "output_type": "stream",
     "text": [
      "Calculated value of Δχ: 0.3333π\n"
     ]
    }
   ],
   "source": [
    "chi_calculated = pi.calculate_chi(alpha, E_is, E_s,p = True)"
   ]
  },
  {
   "cell_type": "code",
   "execution_count": 35,
   "metadata": {},
   "outputs": [
    {
     "name": "stdout",
     "output_type": "stream",
     "text": [
      "Δχ original: 0.3333π\n",
      "\n",
      "Δχ calculated: 0.3333π\n",
      "\n",
      "Δχ by minimization: 0.3333π\n",
      "\n"
     ]
    }
   ],
   "source": [
    "print(f\"Δχ original: {chi / np.pi:.4f}π\\n\")\n",
    "print(f\"Δχ calculated: {chi_calculated / np.pi:.4f}π\\n\")\n",
    "print(f\"Δχ by minimization: {optimal_delta_chi / np.pi:.4f}π\\n\")"
   ]
  }
 ],
 "metadata": {
  "kernelspec": {
   "display_name": "base",
   "language": "python",
   "name": "python3"
  },
  "language_info": {
   "codemirror_mode": {
    "name": "ipython",
    "version": 3
   },
   "file_extension": ".py",
   "mimetype": "text/x-python",
   "name": "python",
   "nbconvert_exporter": "python",
   "pygments_lexer": "ipython3",
   "version": "3.12.4"
  }
 },
 "nbformat": 4,
 "nbformat_minor": 2
}
