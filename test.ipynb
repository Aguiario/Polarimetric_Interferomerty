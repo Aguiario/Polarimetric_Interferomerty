{
 "cells": [
  {
   "cell_type": "code",
   "execution_count": null,
   "metadata": {},
   "outputs": [],
   "source": [
    "'''\n",
    "# Definir las variables simbólicas\n",
    "Erx, Ery, Esx, Esy, delta_phi_s = sp.symbols('Erx Ery Esx Esy delta_phi_s', real=True)\n",
    "\n",
    "# Expresión para tan(vartheta_2)\n",
    "tan_vartheta_2_expr = (-Ery * Esy * sp.sin(-delta_phi_s)) / (Erx * Esx + Ery * Esy * sp.cos(-delta_phi_s))\n",
    "\n",
    "# Despejar delta_phi_s\n",
    "delta_phi_s_solution = sp.solve(tan_vartheta_2_expr - sp.tan(sp.symbols('vartheta_2')), delta_phi_s)\n",
    "\n",
    "# Mostrar el resultado\n",
    "delta_phi_s_solution'\n",
    "'''"
   ]
  }
 ],
 "metadata": {
  "kernelspec": {
   "display_name": "base",
   "language": "python",
   "name": "python3"
  },
  "language_info": {
   "codemirror_mode": {
    "name": "ipython",
    "version": 3
   },
   "file_extension": ".py",
   "mimetype": "text/x-python",
   "name": "python",
   "nbconvert_exporter": "python",
   "pygments_lexer": "ipython3",
   "version": "3.12.4"
  }
 },
 "nbformat": 4,
 "nbformat_minor": 2
}
