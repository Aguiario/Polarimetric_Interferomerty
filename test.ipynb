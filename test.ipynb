{
 "cells": [
  {
   "cell_type": "code",
   "execution_count": null,
   "metadata": {},
   "outputs": [],
   "source": [
    "import pyPI as pi\n",
    "import numpy as np\n",
    "from scipy.optimize import minimize"
   ]
  },
  {
   "cell_type": "code",
   "execution_count": null,
   "metadata": {},
   "outputs": [],
   "source": [
    "def calculator(In, Out, delta, p=False):\n",
    "\n",
    "    def objective(params):\n",
    "        alpha = params[0]\n",
    "        matrix = pi.jones_matrix(delta, alpha)\n",
    "        result = matrix @ In\n",
    "        return np.linalg.norm(result - Out)\n",
    "\n",
    "    initial_guess = [0]\n",
    "    result = minimize(objective, initial_guess, bounds=[(0, 2*np.pi)])\n",
    "    alpha = result.x[0]\n",
    "\n",
    "    if p:\n",
    "        print(f\"delta:{delta}, alpha:{alpha / np.pi:.4f}π\")\n",
    "\n",
    "    return alpha"
   ]
  },
  {
   "cell_type": "code",
   "execution_count": null,
   "metadata": {},
   "outputs": [],
   "source": [
    "In = pi.polarization_basis_set('P45')\n",
    "Out = pi.polarization_basis_set('R')\n",
    "alpha_1, alpha_2 = pi.PSG_calculator(In, Out, np.pi)"
   ]
  },
  {
   "cell_type": "code",
   "execution_count": null,
   "metadata": {},
   "outputs": [],
   "source": [
    "pi.field_notation(pi.PSG(alpha_1, alpha_2) @ In,p=True)"
   ]
  }
 ],
 "metadata": {
  "kernelspec": {
   "display_name": "base",
   "language": "python",
   "name": "python3"
  },
  "language_info": {
   "codemirror_mode": {
    "name": "ipython",
    "version": 3
   },
   "file_extension": ".py",
   "mimetype": "text/x-python",
   "name": "python",
   "nbconvert_exporter": "python",
   "pygments_lexer": "ipython3",
   "version": "3.12.4"
  }
 },
 "nbformat": 4,
 "nbformat_minor": 2
}
