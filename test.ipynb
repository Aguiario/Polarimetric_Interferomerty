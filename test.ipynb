{
 "cells": [
  {
   "cell_type": "code",
   "execution_count": 24,
   "metadata": {},
   "outputs": [],
   "source": [
    "import pyPI as pi\n",
    "import numpy as np"
   ]
  },
  {
   "cell_type": "code",
   "execution_count": 37,
   "metadata": {},
   "outputs": [
    {
     "name": "stdout",
     "output_type": "stream",
     "text": [
      "b (|A|² + |B|²): 1.9999808200000002\n",
      "m (|A . B|): 0.7071\n"
     ]
    }
   ],
   "source": [
    "import numpy as np\n",
    "\n",
    "# Función para crear mapas de vectores Jones simulados\n",
    "def create_vector_matrix(vector, shape):\n",
    "    return np.array([[vector for _ in range(shape[1])] for _ in range(shape[0])])\n",
    "\n",
    "# Vectores Jones originales\n",
    "Er = (1/np.sqrt(2)) * np.array([[1], [1j]])\n",
    "Es = np.array([0 - 0.7071j, 4.3298e-17 + 0.7071j])\n",
    "\n",
    "# Crear mapas de vectores Jones\n",
    "sample_shape = (100, 100)  # Tamaño del mapa (ejemplo)\n",
    "A = create_vector_matrix(Er, sample_shape)\n",
    "E_s = create_vector_matrix(Es, sample_shape)\n",
    "\n",
    "# Flatten para mantener consistencia con el código original\n",
    "E_r = np.stack([[elem.flatten() for elem in row] for row in A])\n",
    "E_s = np.stack([[elem.flatten() for elem in row] for row in E_s])\n",
    "\n",
    "# Intensidad calculada correctamente\n",
    "b = np.sum(np.abs(E_r)**2, axis=-1) + np.sum(np.abs(E_s)**2, axis=-1)\n",
    "\n",
    "# Producto punto calculado correctamente\n",
    "m = np.abs(np.einsum('ijk,ijk->ij', E_r, np.conj(E_s)))\n",
    "\n",
    "print(f\"b (|A|² + |B|²): {b.mean()}\")  # Debe ser aproximadamente 2\n",
    "print(f\"m (|A . B|): {m.mean()}\")      # Debe ser aproximadamente 1\n"
   ]
  },
  {
   "cell_type": "code",
   "execution_count": 53,
   "metadata": {},
   "outputs": [
    {
     "data": {
      "text/plain": [
       "array([[0.70710678+0.j        ],\n",
       "       [0.        +0.70710678j]])"
      ]
     },
     "execution_count": 53,
     "metadata": {},
     "output_type": "execute_result"
    }
   ],
   "source": [
    "Er"
   ]
  },
  {
   "cell_type": "code",
   "execution_count": 52,
   "metadata": {},
   "outputs": [
    {
     "data": {
      "text/plain": [
       "array([[ 7.07110000e-01+0.j     ],\n",
       "       [-2.59736006e-06+0.70711j]])"
      ]
     },
     "execution_count": 52,
     "metadata": {},
     "output_type": "execute_result"
    }
   ],
   "source": [
    "pi.field_notation(Er)"
   ]
  },
  {
   "cell_type": "code",
   "execution_count": 50,
   "metadata": {},
   "outputs": [
    {
     "name": "stdout",
     "output_type": "stream",
     "text": [
      "0.70711\n",
      "0.70711\n",
      "0.5π\n",
      "\n"
     ]
    },
    {
     "data": {
      "text/plain": [
       "array([[ 7.07110000e-01+0.j     ],\n",
       "       [-2.59736006e-06+0.70711j]])"
      ]
     },
     "execution_count": 50,
     "metadata": {},
     "output_type": "execute_result"
    }
   ],
   "source": [
    "pi.field_notation(A[0,0],p=True)"
   ]
  },
  {
   "cell_type": "code",
   "execution_count": null,
   "metadata": {},
   "outputs": [
    {
     "data": {
      "text/plain": [
       "array([[0.70710678+0.j],\n",
       "       [0.70710678+0.j]])"
      ]
     },
     "execution_count": 47,
     "metadata": {},
     "output_type": "execute_result"
    }
   ],
   "source": []
  }
 ],
 "metadata": {
  "kernelspec": {
   "display_name": "base",
   "language": "python",
   "name": "python3"
  },
  "language_info": {
   "codemirror_mode": {
    "name": "ipython",
    "version": 3
   },
   "file_extension": ".py",
   "mimetype": "text/x-python",
   "name": "python",
   "nbconvert_exporter": "python",
   "pygments_lexer": "ipython3",
   "version": "3.12.4"
  }
 },
 "nbformat": 4,
 "nbformat_minor": 2
}
