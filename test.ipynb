{
 "cells": [
  {
   "cell_type": "code",
   "execution_count": null,
   "metadata": {},
   "outputs": [
    {
     "ename": "ModuleNotFoundError",
     "evalue": "No module named 'cv2'",
     "output_type": "error",
     "traceback": [
      "\u001b[1;31m---------------------------------------------------------------------------\u001b[0m",
      "\u001b[1;31mModuleNotFoundError\u001b[0m                       Traceback (most recent call last)",
      "Cell \u001b[1;32mIn[3], line 3\u001b[0m\n\u001b[0;32m      1\u001b[0m \u001b[38;5;28;01mimport\u001b[39;00m \u001b[38;5;21;01mnumpy\u001b[39;00m \u001b[38;5;28;01mas\u001b[39;00m \u001b[38;5;21;01mnp\u001b[39;00m\n\u001b[0;32m      2\u001b[0m \u001b[38;5;28;01mimport\u001b[39;00m \u001b[38;5;21;01mmatplotlib\u001b[39;00m\u001b[38;5;21;01m.\u001b[39;00m\u001b[38;5;21;01mpyplot\u001b[39;00m \u001b[38;5;28;01mas\u001b[39;00m \u001b[38;5;21;01mplt\u001b[39;00m\n\u001b[1;32m----> 3\u001b[0m \u001b[38;5;28;01mimport\u001b[39;00m \u001b[38;5;21;01mcv2\u001b[39;00m\n\u001b[0;32m      5\u001b[0m \u001b[38;5;66;03m# Definición de parámetros\u001b[39;00m\n\u001b[0;32m      6\u001b[0m lambda_ \u001b[38;5;241m=\u001b[39m \u001b[38;5;241m532e-9\u001b[39m  \u001b[38;5;66;03m# Longitud de onda en metros (532 nm)\u001b[39;00m\n",
      "\u001b[1;31mModuleNotFoundError\u001b[0m: No module named 'cv2'"
     ]
    }
   ],
   "source": [
    "import numpy as np\n",
    "import matplotlib.pyplot as plt\n",
    "import cv2\n",
    "\n",
    "# Definición de parámetros\n",
    "lambda_ = 532e-9  # Longitud de onda en metros (532 nm)\n",
    "d = 0  # Grosor de la muestra en metros\n",
    "\n",
    "# Campos eléctricos (en forma de vectores complejos)\n",
    "Er = np.array([1, 1])  # Campo eléctrico de referencia\n",
    "Eis = np.array([1, np.exp(1j * np.pi / 8)])  # Campo eléctrico incidente\n",
    "\n",
    "# Cálculo de la birrefringencia y retardo de fase\n",
    "Delta_phi = np.pi\n",
    "\n",
    "# Matriz de Jones del objeto\n",
    "S = np.array([[np.exp(1j * Delta_phi / 2), 0],\n",
    "              [0, np.exp(-1j * Delta_phi / 2)]])\n",
    "\n",
    "# Cálculo del campo eléctrico transmitido\n",
    "Es = S @ Eis\n",
    "\n",
    "# Cálculo del campo de salida\n",
    "Eout = Er + Es\n",
    "\n",
    "# Cálculo de intensidad detectada\n",
    "I = np.abs(Eout[0])**2 + np.abs(Eout[1])**2\n",
    "\n",
    "# Definición de variables para el patrón de interferencia\n",
    "k = 2 * np.pi / lambda_  # Número de onda\n",
    "x = np.linspace(-k, k, 500)  # Coordenada espacial\n",
    "mu = 0  # Desfase global\n",
    "vartheta = np.arctan2(-np.abs(Er[1]) * np.abs(Es[1]) * np.sin(Delta_phi),\n",
    "                      np.abs(Er[0]) * np.abs(Es[0]) + np.abs(Er[1]) * np.abs(Es[1]) * np.cos(Delta_phi))\n",
    "\n",
    "# Cálculo del patrón de interferencia\n",
    "I_pattern = I + 2 * np.abs(Er[0] * Es[0] + Er[1] * Es[1]) * np.cos(mu + k * x - vartheta)\n",
    "\n",
    "# Normalización de la intensidad para escalar entre 0 y 255\n",
    "I_pattern_norm = (I_pattern - I_pattern.min()) / (I_pattern.max() - I_pattern.min()) * 255\n",
    "I_pattern_norm = np.uint8(I_pattern_norm)\n",
    "\n",
    "# Convertir a imagen en escala de grises con OpenCV\n",
    "height = 500  # Altura de la imagen\n",
    "pattern_image = np.tile(I_pattern_norm, (height, 1))\n",
    "\n",
    "# Aplicar filtro para resaltar franjas\n",
    "pattern_image = cv2.GaussianBlur(pattern_image, (5, 5), 0)\n",
    "\n",
    "# Mostrar el patrón de interferencia como imagen\n",
    "plt.figure(figsize=(10, 5))\n",
    "plt.imshow(pattern_image, cmap='gray', aspect='auto')\n",
    "plt.axis('off')\n",
    "plt.title(\"Patrón de Interferencia\")\n",
    "plt.show()\n"
   ]
  },
  {
   "cell_type": "code",
   "execution_count": null,
   "metadata": {},
   "outputs": [],
   "source": [
    "# Impresión de resultados\n",
    "print(\"Campo eléctrico de referencia Er:\", Er)\n",
    "print(\"Campo eléctrico incidente Eis:\", Eis)\n",
    "print(\"Matriz de Jones S:\")\n",
    "print(S)\n",
    "print(\"Campo eléctrico después de la muestra Es:\", Es)\n"
   ]
  }
 ],
 "metadata": {
  "kernelspec": {
   "display_name": "Python 3",
   "language": "python",
   "name": "python3"
  },
  "language_info": {
   "codemirror_mode": {
    "name": "ipython",
    "version": 3
   },
   "file_extension": ".py",
   "mimetype": "text/x-python",
   "name": "python",
   "nbconvert_exporter": "python",
   "pygments_lexer": "ipython3",
   "version": "3.10.15"
  }
 },
 "nbformat": 4,
 "nbformat_minor": 2
}
