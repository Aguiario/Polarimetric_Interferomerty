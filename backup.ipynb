{
 "cells": [
  {
   "cell_type": "code",
   "execution_count": 1,
   "metadata": {},
   "outputs": [],
   "source": [
    "import numpy as np\n",
    "import matplotlib.pyplot as plt\n",
    "import cv2\n",
    "import sympy as sp\n",
    "import pyPI as pi"
   ]
  },
  {
   "cell_type": "code",
   "execution_count": 2,
   "metadata": {},
   "outputs": [
    {
     "name": "stdout",
     "output_type": "stream",
     "text": [
      "Esx: [1.]\n",
      "Esy: [2.]\n",
      "Delta_phi_s: (0.785398163397449,)\n",
      "Ángulo de Es[1]: 0.7853981633974483\n"
     ]
    }
   ],
   "source": [
    "# Definir vectores iniciales\n",
    "Er_1 = np.array([[1], [0]])  \n",
    "Er_2 = np.array([[1], [1]])  \n",
    "Es = np.array([[1], [2 * np.exp(1j * np.pi/4)]])\n",
    "\n",
    "# Calcular intensidades\n",
    "info_1, i_1 = pi.I(Er_1, Es)\n",
    "info_2, i_2 = pi.I(Er_2, Es)\n",
    "\n",
    "# Cálculo de componentes de Es\n",
    "Esx = info_1[1] / np.abs(Er_1[0])\n",
    "Esy = np.sqrt(info_1[0] - Esx**2 - Er_1[0]**2)\n",
    "Es_c = np.array([[Esx], [Esy]])\n",
    "\n",
    "# Cálculo del numerador y denominador\n",
    "norm_Er2_sq = np.linalg.norm(Er_2)**2\n",
    "norm_Es_c_sq = np.linalg.norm(Es_c)**2\n",
    "\n",
    "numerador = (norm_Er2_sq + norm_Es_c_sq) * np.tan(info_2[2])[0]\n",
    "denominador = norm_Er2_sq + norm_Es_c_sq + 2 * np.abs(Er_2[0])[0] * np.abs(Es_c[0])[0] * np.abs(Er_2[1])[0] * np.abs(Es_c[1])[0]\n",
    "\n",
    "# Definir variable simbólica\n",
    "phi_s = sp.Symbol('Delta_phi_s')\n",
    "\n",
    "# Definir matrices simbólicas\n",
    "Es_c_sp = sp.Matrix([Esx[0], Esy[0]])  \n",
    "Er_2_sp = sp.Matrix([Er_2[0,0], Er_2[1,0]]) \n",
    "\n",
    "# Expresión para la fase\n",
    "expr = sp.atan2(-Er_2_sp[1] * Es_c_sp[1] * sp.sin(-phi_s), \n",
    "                Er_2_sp[0] * Es_c_sp[0] + Er_2_sp[1] * Es_c_sp[1] * sp.cos(-phi_s)) - info_2[2]\n",
    "\n",
    "# Resolver para Δφ_s\n",
    "solucion = sp.solve(expr, phi_s)\n",
    "delta_phi_s = solucion[0] if solucion else \"No se encontraron soluciones simbólicas.\"\n",
    "\n",
    "# Resultados\n",
    "print(f\"Esx: {Esx}\")\n",
    "print(f\"Esy: {Esy}\")\n",
    "print(f\"Delta_phi_s: {delta_phi_s}\")\n",
    "print(f\"Ángulo de Es[1]: {np.angle(Es[1,0])}\")"
   ]
  },
  {
   "cell_type": "code",
   "execution_count": null,
   "metadata": {},
   "outputs": [],
   "source": [
    "#import sympy as sp\n",
    "\n",
    "# Definir variables simbólicas\n",
    "#vartheta = sp.Symbol('vartheta')  \n",
    "#phi_s = sp.Symbol('Delta_phi_s')  \n",
    "\n",
    "# Definir elementos simbólicos de las matrices\n",
    "#Es_c_1, Es_c_2 = sp.symbols('Es_c_1 Es_c_2')\n",
    "#Er_2_1, Er_2_2 = sp.symbols('Er_2_1 Er_2_2')\n",
    "\n",
    "# Expresión general con variables simbólicas\n",
    "#expr = sp.atan2(-Er_2_2 * Es_c_2 * sp.sin(-phi_s), \n",
    "#                Er_2_1 * Es_c_1 + Er_2_2 * Es_c_2 * sp.cos(-phi_s)) - vartheta\n",
    "\n",
    "# Resolver para Δφ_s\n",
    "#solution = sp.solve(expr, phi_s)\n",
    "\n",
    "# Imprimir solución simbólica\n",
    "#print(solution if solution else \"No se encontraron soluciones simbólicas.\")\n"
   ]
  },
  {
   "cell_type": "code",
   "execution_count": 4,
   "metadata": {},
   "outputs": [
    {
     "name": "stdout",
     "output_type": "stream",
     "text": [
      "S: [[ 1.+0.0000000e+00j  0.+0.0000000e+00j]\n",
      " [ 0.+0.0000000e+00j -1.-1.2246468e-16j]]\n",
      "Es: [[ 1.        +0.j        ]\n",
      " [-1.41421356-1.41421356j]]\n",
      "Esx: 1.0\n",
      "Esy: 2.0000000000000004\n",
      "Delta_phi_s_x: 0.0\n",
      "Delta_phi_s_y: -2.356194490192345\n",
      "Delta_phi_s: -2.356194490192345\n",
      "Delta_phi_is: 0.7853981633974483\n",
      "Delta_chi: 3.141592653589793\n",
      "Delta_chi_calculates: 3.141592653589793\n"
     ]
    }
   ],
   "source": [
    "Er = np.array([[1], [0]])\n",
    "Eis = np.array([[1], [2 * np.exp(1j * np.pi/4)]])\n",
    "#Eis = np.array([[1], [1]])\n",
    "\n",
    "delta_chi = np.pi\n",
    "alpha = 0\n",
    "\n",
    "#S = np.array([[1, 0], \n",
    "#                   [0, np.exp(1j * delta_chi)]])\n",
    "sxx = (np.cos(alpha) ** 2 + np.exp(-1j * delta_chi) * np.sin(alpha) ** 2)\n",
    "sxy = ((1 - np.exp(1j * delta_chi)) * np.cos(alpha) * np.sin(alpha))\n",
    "syx = ((1 - np.exp(1j * delta_chi)) * np.cos(alpha) * np.sin(alpha))\n",
    "syy = (np.sin(alpha) ** 2 + np.exp(-1j * delta_chi) * np.cos(alpha) ** 2)\n",
    "\n",
    "S = np.array([[sxx, sxy], \n",
    "                   [syx, syy]])\n",
    "\n",
    "Es = S @ Eis\n",
    "\n",
    "delta_phi_s = np.angle(Es[1,0]) - np.angle(Es[0,0])\n",
    "\n",
    "delta_chi_calculated = np.angle(Eis[1,0]) -delta_phi_s\n",
    "\n",
    "\n",
    "print(f\"S: {S}\")\n",
    "print(f\"Es: {Es}\")\n",
    "print(f\"Esx: {np.abs(Es[0])[0]}\")\n",
    "print(f\"Esy: {np.abs(Es[1])[0]}\")\n",
    "print(f\"Delta_phi_s_x: {np.angle(Es[0,0])}\")\n",
    "print(f\"Delta_phi_s_y: {np.angle(Es[1,0])}\")\n",
    "print(f\"Delta_phi_s: {delta_phi_s}\")\n",
    "print(f\"Delta_phi_is: {np.angle(Eis[1,0])}\")\n",
    "print(f\"Delta_chi: {delta_chi}\")\n",
    "print(f\"Delta_chi_calculates: {delta_chi_calculated}\")"
   ]
  },
  {
   "cell_type": "code",
   "execution_count": 1,
   "metadata": {},
   "outputs": [
    {
     "name": "stdout",
     "output_type": "stream",
     "text": [
      "[2*atan((Er_2_2*Es_c_2 - sqrt(-Er_2_1**2*Es_c_1**2*tan(vartheta)**2 + Er_2_2**2*Es_c_2**2*tan(vartheta)**2 + Er_2_2**2*Es_c_2**2))/((Er_2_1*Es_c_1 - Er_2_2*Es_c_2)*tan(vartheta))), 2*atan((Er_2_2*Es_c_2 + sqrt(-Er_2_1**2*Es_c_1**2*tan(vartheta)**2 + Er_2_2**2*Es_c_2**2*tan(vartheta)**2 + Er_2_2**2*Es_c_2**2))/((Er_2_1*Es_c_1 - Er_2_2*Es_c_2)*tan(vartheta)))]\n"
     ]
    }
   ],
   "source": [
    "import sympy as sp\n",
    "\n",
    "# Definir variables simbólicas\n",
    "vartheta = sp.Symbol('vartheta')  \n",
    "phi_s = sp.Symbol('Delta_phi_s', real=True)  # Se especifica que es real\n",
    "\n",
    "# Definir elementos simbólicos de las matrices\n",
    "Es_c_1, Es_c_2 = sp.symbols('Es_c_1 Es_c_2', real=True)\n",
    "Er_2_1, Er_2_2 = sp.symbols('Er_2_1 Er_2_2', real=True)\n",
    "\n",
    "# Definir expresiones para seno y coseno de phi_s\n",
    "sin_phi_s = sp.sin(-phi_s)\n",
    "cos_phi_s = sp.cos(-phi_s)\n",
    "\n",
    "# Expresión en términos de tangente\n",
    "tan_expr = (-Er_2_2 * Es_c_2 * sin_phi_s) / (Er_2_1 * Es_c_1 + Er_2_2 * Es_c_2 * cos_phi_s)\n",
    "\n",
    "# Igualamos la tangente con tan(vartheta)\n",
    "expr = sp.tan(vartheta) - tan_expr\n",
    "\n",
    "# Resolver para phi_s\n",
    "solution = sp.solve(expr, phi_s)\n",
    "\n",
    "# Imprimir solución simbólica\n",
    "print(solution if solution else \"No se encontraron soluciones simbólicas.\")\n"
   ]
  }
 ],
 "metadata": {
  "kernelspec": {
   "display_name": "base",
   "language": "python",
   "name": "python3"
  },
  "language_info": {
   "codemirror_mode": {
    "name": "ipython",
    "version": 3
   },
   "file_extension": ".py",
   "mimetype": "text/x-python",
   "name": "python",
   "nbconvert_exporter": "python",
   "pygments_lexer": "ipython3",
   "version": "3.12.4"
  }
 },
 "nbformat": 4,
 "nbformat_minor": 2
}
