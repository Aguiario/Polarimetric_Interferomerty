{
 "cells": [
  {
   "cell_type": "code",
   "execution_count": null,
   "metadata": {
    "vscode": {
     "languageId": "plaintext"
    }
   },
   "outputs": [],
   "source": [
    "import numpy as np\n",
    "import matplotlib.pyplot as plt\n",
    "import cv2"
   ]
  },
  {
   "cell_type": "code",
   "execution_count": null,
   "metadata": {
    "vscode": {
     "languageId": "plaintext"
    }
   },
   "outputs": [],
   "source": [
    "# Definir vectores iniciales\n",
    "Er_1 = np.array([[1], [0]])  \n",
    "Er_2 = np.array([[1], [1]])  \n",
    "Es = np.array([[1], [2 * np.exp(1j * np.pi/4)]])\n",
    "\n",
    "# Calcular intensidades\n",
    "info_1, i_1 = pi.I(Er_1, Es)\n",
    "info_2, i_2 = pi.I(Er_2, Es)\n",
    "\n",
    "# Cálculo de componentes de Es\n",
    "Esx = info_1[1] / np.abs(Er_1[0])\n",
    "Esy = np.sqrt(info_1[0] - Esx**2 - Er_1[0]**2)\n",
    "Es_c = np.array([[Esx], [Esy]])\n",
    "\n",
    "# Cálculo del numerador y denominador\n",
    "norm_Er2_sq = np.linalg.norm(Er_2)**2\n",
    "norm_Es_c_sq = np.linalg.norm(Es_c)**2\n",
    "\n",
    "numerador = (norm_Er2_sq + norm_Es_c_sq) * np.tan(info_2[2])[0]\n",
    "denominador = norm_Er2_sq + norm_Es_c_sq + 2 * np.abs(Er_2[0])[0] * np.abs(Es_c[0])[0] * np.abs(Er_2[1])[0] * np.abs(Es_c[1])[0]\n",
    "\n",
    "# Definir variable simbólica\n",
    "phi_s = sp.Symbol('Delta_phi_s')\n",
    "\n",
    "# Definir matrices simbólicas\n",
    "Es_c_sp = sp.Matrix([Esx[0], Esy[0]])  \n",
    "Er_2_sp = sp.Matrix([Er_2[0,0], Er_2[1,0]]) \n",
    "\n",
    "# Expresión para la fase\n",
    "expr = sp.atan2(-Er_2_sp[1] * Es_c_sp[1] * sp.sin(-phi_s), \n",
    "                Er_2_sp[0] * Es_c_sp[0] + Er_2_sp[1] * Es_c_sp[1] * sp.cos(-phi_s)) - info_2[2]\n",
    "\n",
    "# Resolver para Δφ_s\n",
    "solucion = sp.solve(expr, phi_s)\n",
    "delta_phi_s = solucion[0] if solucion else \"No se encontraron soluciones simbólicas.\"\n",
    "\n",
    "# Resultados\n",
    "print(f\"Esx: {Esx}\")\n",
    "print(f\"Esy: {Esy}\")\n",
    "print(f\"Delta_phi_s: {delta_phi_s}\")\n",
    "print(f\"Ángulo de Es[1]: {np.angle(Es[1,0])}\")"
   ]
  },
  {
   "cell_type": "code",
   "execution_count": null,
   "metadata": {
    "vscode": {
     "languageId": "plaintext"
    }
   },
   "outputs": [],
   "source": [
    "#import sympy as sp\n",
    "\n",
    "# Definir variables simbólicas\n",
    "#vartheta = sp.Symbol('vartheta')  \n",
    "#phi_s = sp.Symbol('Delta_phi_s')  \n",
    "\n",
    "# Definir elementos simbólicos de las matrices\n",
    "#Es_c_1, Es_c_2 = sp.symbols('Es_c_1 Es_c_2')\n",
    "#Er_2_1, Er_2_2 = sp.symbols('Er_2_1 Er_2_2')\n",
    "\n",
    "# Expresión general con variables simbólicas\n",
    "#expr = sp.atan2(-Er_2_2 * Es_c_2 * sp.sin(-phi_s), \n",
    "#                Er_2_1 * Es_c_1 + Er_2_2 * Es_c_2 * sp.cos(-phi_s)) - vartheta\n",
    "\n",
    "# Resolver para Δφ_s\n",
    "#solution = sp.solve(expr, phi_s)\n",
    "\n",
    "# Imprimir solución simbólica\n",
    "#print(solution if solution else \"No se encontraron soluciones simbólicas.\")\n"
   ]
  }
 ],
 "metadata": {
  "language_info": {
   "name": "python"
  }
 },
 "nbformat": 4,
 "nbformat_minor": 2
}
