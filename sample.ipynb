{
 "cells": [
  {
   "cell_type": "code",
   "execution_count": 1,
   "metadata": {},
   "outputs": [],
   "source": [
    "import numpy as np\n",
    "import matplotlib.pyplot as plt\n",
    "import cv2\n",
    "import sympy as sp\n",
    "import pyPI as pi"
   ]
  },
  {
   "cell_type": "code",
   "execution_count": 35,
   "metadata": {},
   "outputs": [
    {
     "name": "stdout",
     "output_type": "stream",
     "text": [
      "Es: [[ 1.         +0.j      ]\n",
      " [29.46662429+71.138724j]]\n",
      "Esx: 1.0\n",
      "Esy: 77.00000000000001\n",
      "Delta_phi_s: 1.1780972450961724\n",
      "Delta_chi: 0.39269908169872414\n",
      "Delta_chi_calculates: 0.39269908169872414\n"
     ]
    }
   ],
   "source": [
    "Er = np.array([[1], [0]])\n",
    "Eis = np.array([[1], [77 * np.exp(1j * np.pi/4)]])\n",
    "\n",
    "delta_chi = np.pi/8\n",
    "\n",
    "S = np.array([[1, 0], \n",
    "                   [0, np.exp(1j * delta_chi)]])\n",
    "\n",
    "Es = S @ Eis\n",
    "\n",
    "\n",
    "delta_chi_calculated = np.abs(np.angle(Eis[1,0]) - np.angle(Es[1,0]))\n",
    "\n",
    "\n",
    "print(f\"Es: {Es}\")\n",
    "print(f\"Esx: {np.abs(Es[0])[0]}\")\n",
    "print(f\"Esy: {np.abs(Es[1])[0]}\")\n",
    "print(f\"Delta_phi_s: {np.angle(Es[1,0])}\")\n",
    "print(f\"Delta_chi: {delta_chi}\")\n",
    "print(f\"Delta_chi_calculates: {delta_chi_calculated}\")"
   ]
  }
 ],
 "metadata": {
  "kernelspec": {
   "display_name": "base",
   "language": "python",
   "name": "python3"
  },
  "language_info": {
   "codemirror_mode": {
    "name": "ipython",
    "version": 3
   },
   "file_extension": ".py",
   "mimetype": "text/x-python",
   "name": "python",
   "nbconvert_exporter": "python",
   "pygments_lexer": "ipython3",
   "version": "3.12.4"
  }
 },
 "nbformat": 4,
 "nbformat_minor": 2
}
