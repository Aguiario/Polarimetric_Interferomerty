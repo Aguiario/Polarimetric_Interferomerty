{
 "cells": [
  {
   "cell_type": "code",
   "execution_count": null,
   "metadata": {},
   "outputs": [],
   "source": [
    "# Definir las variables simbólicas\n",
    "Erx, Ery, Esx, Esy, delta_phi_s = sp.symbols('Erx Ery Esx Esy delta_phi_s', real=True)\n",
    "\n",
    "# Expresión para tan(vartheta_2)\n",
    "tan_vartheta_2_expr = (-Ery * Esy * sp.sin(-delta_phi_s)) / (Erx * Esx + Ery * Esy * sp.cos(-delta_phi_s))\n",
    "\n",
    "# Despejar delta_phi_s\n",
    "delta_phi_s_solution = sp.solve(tan_vartheta_2_expr - sp.tan(sp.symbols('vartheta_2')), delta_phi_s)\n",
    "\n",
    "# Mostrar el resultado\n",
    "delta_phi_s_solution"
   ]
  }
 ],
 "metadata": {
  "language_info": {
   "name": "python"
  }
 },
 "nbformat": 4,
 "nbformat_minor": 2
}
