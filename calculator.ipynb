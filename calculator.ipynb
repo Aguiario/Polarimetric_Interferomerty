{
 "cells": [
  {
   "cell_type": "code",
   "execution_count": 118,
   "metadata": {},
   "outputs": [],
   "source": [
    "import old as pi\n",
    "import numpy as np"
   ]
  },
  {
   "cell_type": "markdown",
   "metadata": {},
   "source": [
    "# H"
   ]
  },
  {
   "cell_type": "code",
   "execution_count": 119,
   "metadata": {},
   "outputs": [
    {
     "name": "stdout",
     "output_type": "stream",
     "text": [
      "0.0\n",
      "1.0\n",
      "0.0π\n",
      "\n",
      "0.70711\n",
      "0.70711\n",
      "-0.0π\n",
      "\n",
      "No es posible hacer un N45 a partir de un H\n",
      "\n",
      "0.70711\n",
      "0.70711\n",
      "0.5π\n",
      "\n",
      "0.70711\n",
      "0.70711\n",
      "-0.5π\n",
      "\n"
     ]
    }
   ],
   "source": [
    "H = np.array([[1], [0]])\n",
    "\n",
    "\n",
    "V = pi.field_notation(pi.PSG(np.pi/4,0) @ H, p=True)\n",
    "\n",
    "P45 = pi.field_notation(pi.PSG(np.pi/8,np.pi/4) @ H, p=True)\n",
    "\n",
    "N45 = 'No es posible hacer un N45 a partir de un H'\n",
    "print(N45 + \"\\n\")\n",
    "\n",
    "L = pi.field_notation(pi.PSG(np.pi/8,np.pi/2) @ H, p=True)\n",
    "\n",
    "R = pi.field_notation(pi.PSG(np.pi/8,0) @ H, p=True)\n"
   ]
  },
  {
   "cell_type": "markdown",
   "metadata": {},
   "source": [
    "# V"
   ]
  },
  {
   "cell_type": "code",
   "execution_count": 120,
   "metadata": {},
   "outputs": [
    {
     "name": "stdout",
     "output_type": "stream",
     "text": [
      "1.0\n",
      "0.0\n",
      "0.0π\n",
      "\n",
      "No es posible hacer un P45 a partir de un H\n",
      "\n",
      "0.70711\n",
      "0.70711\n",
      "1.0π\n",
      "\n",
      "0.70711\n",
      "0.70711\n",
      "0.5π\n",
      "\n",
      "0.70711\n",
      "0.70711\n",
      "-0.5π\n",
      "\n"
     ]
    }
   ],
   "source": [
    "V = np.array([[0], [1]])\n",
    "\n",
    "H = pi.field_notation(pi.PSG(np.pi/4,0) @ V, p=True)\n",
    "\n",
    "P45 = 'No es posible hacer un P45 a partir de un H'\n",
    "print(P45 + \"\\n\")\n",
    "\n",
    "N45 = pi.field_notation(pi.PSG(np.pi/8,np.pi/4) @ V, p=True)\n",
    "\n",
    "L = pi.field_notation(pi.PSG(np.pi/8,0) @ V, p=True)\n",
    "\n",
    "R = pi.field_notation(pi.PSG(np.pi/8,np.pi/2) @ V, p=True)"
   ]
  },
  {
   "cell_type": "markdown",
   "metadata": {},
   "source": [
    "# $45^\\circ$"
   ]
  },
  {
   "cell_type": "code",
   "execution_count": 121,
   "metadata": {},
   "outputs": [
    {
     "name": "stdout",
     "output_type": "stream",
     "text": [
      "1.0\n",
      "0.0\n",
      "0.0π\n",
      "\n",
      "No es posible hacer un V a partir de un +45\n",
      "\n",
      "0.70711\n",
      "0.70711\n",
      "1.0π\n",
      "\n",
      "0.70711\n",
      "0.70711\n",
      "0.5π\n",
      "\n",
      "0.70711\n",
      "0.70711\n",
      "-0.5π\n",
      "\n"
     ]
    }
   ],
   "source": [
    "P45 = 1/np.sqrt(2) * np.array([[1], [1]])\n",
    "\n",
    "H = pi.field_notation(pi.PSG(np.pi/8,np.pi/2) @ P45, p=True)\n",
    "\n",
    "V = 'No es posible hacer un V a partir de un +45'\n",
    "print(V + \"\\n\")\n",
    "\n",
    "N45 = pi.field_notation(pi.PSG(np.pi,np.pi/4) @ P45, p=True)\n",
    "\n",
    "L = pi.field_notation(pi.PSG(np.pi/2,0) @ P45, p=True)\n",
    "\n",
    "R = pi.field_notation(pi.PSG(np.pi/4,0) @ P45, p=True)"
   ]
  },
  {
   "cell_type": "markdown",
   "metadata": {},
   "source": [
    "# $-45^\\circ$"
   ]
  },
  {
   "cell_type": "code",
   "execution_count": 122,
   "metadata": {},
   "outputs": [
    {
     "name": "stdout",
     "output_type": "stream",
     "text": [
      "No es posible hacer un H a partir de un -45\n",
      "\n",
      "0.0\n",
      "1.0\n",
      "0.0π\n",
      "\n",
      "0.70711\n",
      "0.70711\n",
      "0.0π\n",
      "\n",
      "0.70711\n",
      "0.70711\n",
      "0.5π\n",
      "\n",
      "0.70711\n",
      "0.70711\n",
      "-0.5π\n",
      "\n"
     ]
    }
   ],
   "source": [
    "N45 = 1/np.sqrt(2) * np.array([[1], [-1]])\n",
    "\n",
    "H = 'No es posible hacer un H a partir de un -45'\n",
    "print(H + \"\\n\")\n",
    "\n",
    "V = pi.field_notation(pi.PSG(np.pi/8,0) @ N45, p=True)\n",
    "\n",
    "P45 = pi.field_notation(pi.PSG(np.pi,np.pi/4) @ N45, p=True)\n",
    "\n",
    "L = pi.field_notation(pi.PSG(np.pi/4,0) @ N45, p=True)\n",
    "\n",
    "R = pi.field_notation(pi.PSG(np.pi/8,np.pi/4) @ N45, p=True)"
   ]
  },
  {
   "cell_type": "markdown",
   "metadata": {},
   "source": [
    "# L"
   ]
  },
  {
   "cell_type": "code",
   "execution_count": 123,
   "metadata": {},
   "outputs": [
    {
     "name": "stdout",
     "output_type": "stream",
     "text": [
      "1.0\n",
      "0.0\n",
      "0.0π\n",
      "\n",
      "No es posible hacer un V a partir de un L\n",
      "\n",
      "0.70711\n",
      "0.70711\n",
      "0.0π\n",
      "\n",
      "0.70711\n",
      "0.70711\n",
      "1.0π\n",
      "\n",
      "0.70711\n",
      "0.70711\n",
      "-1.0π\n",
      "\n"
     ]
    }
   ],
   "source": [
    "L = 1/np.sqrt(2) * np.array([[1], [1j]])\n",
    "\n",
    "H = pi.field_notation(pi.PSG(np.pi/2,np.pi/4) @ L, p=True)\n",
    "\n",
    "V = 'No es posible hacer un V a partir de un L'\n",
    "print(V + \"\\n\")\n",
    "\n",
    "P45 = pi.field_notation(pi.PSG(np.pi,np.pi/2) @ L, p=True)\n",
    "\n",
    "N45 = pi.field_notation(pi.PSG(np.pi,0) @ L, p=True)\n",
    "\n",
    "R = pi.field_notation(pi.PSG(np.pi,np.pi) @ L, p=True)"
   ]
  },
  {
   "cell_type": "markdown",
   "metadata": {},
   "source": [
    "# R"
   ]
  },
  {
   "cell_type": "code",
   "execution_count": 124,
   "metadata": {},
   "outputs": [
    {
     "name": "stdout",
     "output_type": "stream",
     "text": [
      "No es posible hacer un H a partir de un R\n",
      "\n",
      "0.0\n",
      "1.0\n",
      "0.0π\n",
      "\n",
      "0.70711\n",
      "0.70711\n",
      "0.0π\n",
      "\n",
      "0.70711\n",
      "0.70711\n",
      "1.0π\n",
      "\n",
      "0.70711\n",
      "0.70711\n",
      "1.0π\n",
      "\n"
     ]
    }
   ],
   "source": [
    "R = 1/np.sqrt(2) * np.array([[1], [-1j]])\n",
    "\n",
    "H = 'No es posible hacer un H a partir de un R'\n",
    "print(H + \"\\n\")\n",
    "\n",
    "V = pi.field_notation(pi.PSG(np.pi/2,np.pi/4) @ R, p=True)\n",
    "\n",
    "P45 = pi.field_notation(pi.PSG(np.pi,0) @ R, p=True)\n",
    "\n",
    "N45 = pi.field_notation(pi.PSG(np.pi,np.pi/2) @ R, p=True)\n",
    "\n",
    "L = pi.field_notation(pi.PSG(np.pi,np.pi/2) @ R, p=True)"
   ]
  }
 ],
 "metadata": {
  "kernelspec": {
   "display_name": "base",
   "language": "python",
   "name": "python3"
  },
  "language_info": {
   "codemirror_mode": {
    "name": "ipython",
    "version": 3
   },
   "file_extension": ".py",
   "mimetype": "text/x-python",
   "name": "python",
   "nbconvert_exporter": "python",
   "pygments_lexer": "ipython3",
   "version": "3.12.4"
  }
 },
 "nbformat": 4,
 "nbformat_minor": 2
}
