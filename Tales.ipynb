{
 "cells": [
  {
   "cell_type": "code",
   "execution_count": 70,
   "metadata": {},
   "outputs": [],
   "source": [
    "import numpy as np\n",
    "import matplotlib.pyplot as plt\n",
    "import cv2\n",
    "import sympy as sp\n",
    "import old as pi"
   ]
  },
  {
   "cell_type": "code",
   "execution_count": 71,
   "metadata": {},
   "outputs": [],
   "source": [
    "import sympy as sp\n",
    "\n",
    "# Definir variables simbólicas\n",
    "alpha, chi, mu, k, x, phi_is, phi_r = sp.symbols('alpha chi mu k x phi_is phi_r', real=True)\n",
    "A_isx, A_isy, A_rx, A_ry = sp.symbols('A_isx A_isy A_rx A_ry', real=True)\n",
    "\n",
    "# Definir vectores de amplitud\n",
    "A_is = sp.Matrix([[A_isx], [A_isy * sp.exp(1j * phi_is)]])\n",
    "A_r = sp.Matrix([[A_rx], [A_ry * sp.exp(1j * phi_r)]])\n",
    "\n",
    "# Definir los coeficientes de la matriz de la lámina de onda\n",
    "S_xx = sp.cos(alpha)**2 + sp.exp(-1j * chi) * sp.sin(alpha)**2\n",
    "S_xy = (1 - sp.exp(-1j * chi)) * sp.cos(alpha) * sp.sin(alpha)\n",
    "S_yx = S_xy\n",
    "S_yy = sp.sin(alpha)**2 + sp.exp(-1j * chi) * sp.cos(alpha)**2\n",
    "\n",
    "# Transformar el vector A_is con la lámina de onda\n",
    "E_sx = S_xx * A_isx + S_xy * A_isy * sp.exp(1j * phi_is)\n",
    "E_sy = S_yx * A_isx + S_yy * A_isy * sp.exp(1j * phi_is)\n",
    "E_s = sp.Matrix([[E_sx], [E_sy]])\n",
    "\n",
    "# Expresiones para la intensidad\n",
    "Omega = A_r.norm()**2 + E_s.norm()**2\n",
    "Psi = sp.Abs(A_r.dot(E_s))\n",
    "\n",
    "# Cálculo de la fase relativa (vartheta)\n",
    "numerator = -sp.Abs(A_r[1,0]) * sp.Abs(E_s[1]) * sp.sin(sp.arg(A_r[1,0]) - sp.arg(E_s[1]))\n",
    "denominator = sp.Abs(A_r[0,0]) * sp.Abs(E_s[0]) + sp.Abs(A_r[1,0]) * sp.Abs(E_s[1]) * sp.cos(sp.arg(A_r[1,0]) - sp.arg(E_s[1]))\n",
    "vartheta = sp.atan2(numerator, denominator)\n",
    "\n",
    "# Modulación de fase\n",
    "zeta = 2 * (k * x - vartheta)\n",
    "cos_term = sp.cos(mu + zeta)\n",
    "\n",
    "\n",
    "#Expresión simbólica para la intensidad\n",
    "I = Omega + Psi * cos_term"
   ]
  },
  {
   "cell_type": "code",
   "execution_count": 72,
   "metadata": {},
   "outputs": [
    {
     "data": {
      "text/latex": [
       "$\\displaystyle A_{isx}^{2} \\sin^{4}{\\left(\\alpha \\right)} + 2 A_{isx}^{2} \\sin^{2}{\\left(\\alpha \\right)} \\cos^{2}{\\left(\\alpha \\right)} + A_{isx}^{2} \\cos^{4}{\\left(\\alpha \\right)} + A_{isy}^{2} \\sin^{4}{\\left(\\alpha \\right)} + 2 A_{isy}^{2} \\sin^{2}{\\left(\\alpha \\right)} \\cos^{2}{\\left(\\alpha \\right)} + A_{isy}^{2} \\cos^{4}{\\left(\\alpha \\right)} + A_{rx}^{2} + A_{ry}^{2} + \\sqrt{A_{isx}^{2} A_{rx}^{2} e^{1.0 i \\chi} \\sin^{2}{\\left(\\alpha \\right)} \\cos^{2}{\\left(\\alpha \\right)} + A_{isx}^{2} A_{rx}^{2} \\sin^{4}{\\left(\\alpha \\right)} + A_{isx}^{2} A_{rx}^{2} \\cos^{4}{\\left(\\alpha \\right)} + A_{isx}^{2} A_{rx}^{2} e^{- 1.0 i \\chi} \\sin^{2}{\\left(\\alpha \\right)} \\cos^{2}{\\left(\\alpha \\right)} + A_{isx}^{2} A_{rx} A_{ry} e^{1.0 i \\chi} e^{1.0 i \\phi_{r}} \\sin^{3}{\\left(\\alpha \\right)} \\cos{\\left(\\alpha \\right)} - A_{isx}^{2} A_{rx} A_{ry} e^{1.0 i \\chi} e^{- 1.0 i \\phi_{r}} \\sin{\\left(\\alpha \\right)} \\cos^{3}{\\left(\\alpha \\right)} - A_{isx}^{2} A_{rx} A_{ry} e^{1.0 i \\phi_{r}} \\sin^{3}{\\left(\\alpha \\right)} \\cos{\\left(\\alpha \\right)} + A_{isx}^{2} A_{rx} A_{ry} e^{1.0 i \\phi_{r}} \\sin{\\left(\\alpha \\right)} \\cos^{3}{\\left(\\alpha \\right)} - A_{isx}^{2} A_{rx} A_{ry} e^{- 1.0 i \\phi_{r}} \\sin^{3}{\\left(\\alpha \\right)} \\cos{\\left(\\alpha \\right)} + A_{isx}^{2} A_{rx} A_{ry} e^{- 1.0 i \\phi_{r}} \\sin{\\left(\\alpha \\right)} \\cos^{3}{\\left(\\alpha \\right)} - A_{isx}^{2} A_{rx} A_{ry} e^{- 1.0 i \\chi} e^{1.0 i \\phi_{r}} \\sin{\\left(\\alpha \\right)} \\cos^{3}{\\left(\\alpha \\right)} + A_{isx}^{2} A_{rx} A_{ry} e^{- 1.0 i \\chi} e^{- 1.0 i \\phi_{r}} \\sin^{3}{\\left(\\alpha \\right)} \\cos{\\left(\\alpha \\right)} - A_{isx}^{2} A_{ry}^{2} e^{1.0 i \\chi} \\sin^{2}{\\left(\\alpha \\right)} \\cos^{2}{\\left(\\alpha \\right)} + 2 A_{isx}^{2} A_{ry}^{2} \\sin^{2}{\\left(\\alpha \\right)} \\cos^{2}{\\left(\\alpha \\right)} - A_{isx}^{2} A_{ry}^{2} e^{- 1.0 i \\chi} \\sin^{2}{\\left(\\alpha \\right)} \\cos^{2}{\\left(\\alpha \\right)} + A_{isx} A_{isy} A_{rx}^{2} e^{1.0 i \\chi} e^{1.0 i \\phi_{is}} \\sin^{3}{\\left(\\alpha \\right)} \\cos{\\left(\\alpha \\right)} - A_{isx} A_{isy} A_{rx}^{2} e^{1.0 i \\chi} e^{- 1.0 i \\phi_{is}} \\sin{\\left(\\alpha \\right)} \\cos^{3}{\\left(\\alpha \\right)} - A_{isx} A_{isy} A_{rx}^{2} e^{1.0 i \\phi_{is}} \\sin^{3}{\\left(\\alpha \\right)} \\cos{\\left(\\alpha \\right)} + A_{isx} A_{isy} A_{rx}^{2} e^{1.0 i \\phi_{is}} \\sin{\\left(\\alpha \\right)} \\cos^{3}{\\left(\\alpha \\right)} - A_{isx} A_{isy} A_{rx}^{2} e^{- 1.0 i \\phi_{is}} \\sin^{3}{\\left(\\alpha \\right)} \\cos{\\left(\\alpha \\right)} + A_{isx} A_{isy} A_{rx}^{2} e^{- 1.0 i \\phi_{is}} \\sin{\\left(\\alpha \\right)} \\cos^{3}{\\left(\\alpha \\right)} - A_{isx} A_{isy} A_{rx}^{2} e^{- 1.0 i \\chi} e^{1.0 i \\phi_{is}} \\sin{\\left(\\alpha \\right)} \\cos^{3}{\\left(\\alpha \\right)} + A_{isx} A_{isy} A_{rx}^{2} e^{- 1.0 i \\chi} e^{- 1.0 i \\phi_{is}} \\sin^{3}{\\left(\\alpha \\right)} \\cos{\\left(\\alpha \\right)} + A_{isx} A_{isy} A_{rx} A_{ry} e^{1.0 i \\chi} e^{1.0 i \\phi_{is}} e^{1.0 i \\phi_{r}} \\sin^{4}{\\left(\\alpha \\right)} - A_{isx} A_{isy} A_{rx} A_{ry} e^{1.0 i \\chi} e^{1.0 i \\phi_{is}} e^{- 1.0 i \\phi_{r}} \\sin^{2}{\\left(\\alpha \\right)} \\cos^{2}{\\left(\\alpha \\right)} - A_{isx} A_{isy} A_{rx} A_{ry} e^{1.0 i \\chi} e^{- 1.0 i \\phi_{is}} e^{1.0 i \\phi_{r}} \\sin^{2}{\\left(\\alpha \\right)} \\cos^{2}{\\left(\\alpha \\right)} + A_{isx} A_{isy} A_{rx} A_{ry} e^{1.0 i \\chi} e^{- 1.0 i \\phi_{is}} e^{- 1.0 i \\phi_{r}} \\cos^{4}{\\left(\\alpha \\right)} + 2 A_{isx} A_{isy} A_{rx} A_{ry} e^{1.0 i \\phi_{is}} e^{1.0 i \\phi_{r}} \\sin^{2}{\\left(\\alpha \\right)} \\cos^{2}{\\left(\\alpha \\right)} + 2 A_{isx} A_{isy} A_{rx} A_{ry} e^{1.0 i \\phi_{is}} e^{- 1.0 i \\phi_{r}} \\sin^{2}{\\left(\\alpha \\right)} \\cos^{2}{\\left(\\alpha \\right)} + 2 A_{isx} A_{isy} A_{rx} A_{ry} e^{- 1.0 i \\phi_{is}} e^{1.0 i \\phi_{r}} \\sin^{2}{\\left(\\alpha \\right)} \\cos^{2}{\\left(\\alpha \\right)} + 2 A_{isx} A_{isy} A_{rx} A_{ry} e^{- 1.0 i \\phi_{is}} e^{- 1.0 i \\phi_{r}} \\sin^{2}{\\left(\\alpha \\right)} \\cos^{2}{\\left(\\alpha \\right)} + A_{isx} A_{isy} A_{rx} A_{ry} e^{- 1.0 i \\chi} e^{1.0 i \\phi_{is}} e^{1.0 i \\phi_{r}} \\cos^{4}{\\left(\\alpha \\right)} - A_{isx} A_{isy} A_{rx} A_{ry} e^{- 1.0 i \\chi} e^{1.0 i \\phi_{is}} e^{- 1.0 i \\phi_{r}} \\sin^{2}{\\left(\\alpha \\right)} \\cos^{2}{\\left(\\alpha \\right)} - A_{isx} A_{isy} A_{rx} A_{ry} e^{- 1.0 i \\chi} e^{- 1.0 i \\phi_{is}} e^{1.0 i \\phi_{r}} \\sin^{2}{\\left(\\alpha \\right)} \\cos^{2}{\\left(\\alpha \\right)} + A_{isx} A_{isy} A_{rx} A_{ry} e^{- 1.0 i \\chi} e^{- 1.0 i \\phi_{is}} e^{- 1.0 i \\phi_{r}} \\sin^{4}{\\left(\\alpha \\right)} - A_{isx} A_{isy} A_{ry}^{2} e^{1.0 i \\chi} e^{1.0 i \\phi_{is}} \\sin^{3}{\\left(\\alpha \\right)} \\cos{\\left(\\alpha \\right)} + A_{isx} A_{isy} A_{ry}^{2} e^{1.0 i \\chi} e^{- 1.0 i \\phi_{is}} \\sin{\\left(\\alpha \\right)} \\cos^{3}{\\left(\\alpha \\right)} + A_{isx} A_{isy} A_{ry}^{2} e^{1.0 i \\phi_{is}} \\sin^{3}{\\left(\\alpha \\right)} \\cos{\\left(\\alpha \\right)} - A_{isx} A_{isy} A_{ry}^{2} e^{1.0 i \\phi_{is}} \\sin{\\left(\\alpha \\right)} \\cos^{3}{\\left(\\alpha \\right)} + A_{isx} A_{isy} A_{ry}^{2} e^{- 1.0 i \\phi_{is}} \\sin^{3}{\\left(\\alpha \\right)} \\cos{\\left(\\alpha \\right)} - A_{isx} A_{isy} A_{ry}^{2} e^{- 1.0 i \\phi_{is}} \\sin{\\left(\\alpha \\right)} \\cos^{3}{\\left(\\alpha \\right)} + A_{isx} A_{isy} A_{ry}^{2} e^{- 1.0 i \\chi} e^{1.0 i \\phi_{is}} \\sin{\\left(\\alpha \\right)} \\cos^{3}{\\left(\\alpha \\right)} - A_{isx} A_{isy} A_{ry}^{2} e^{- 1.0 i \\chi} e^{- 1.0 i \\phi_{is}} \\sin^{3}{\\left(\\alpha \\right)} \\cos{\\left(\\alpha \\right)} - A_{isy}^{2} A_{rx}^{2} e^{1.0 i \\chi} \\sin^{2}{\\left(\\alpha \\right)} \\cos^{2}{\\left(\\alpha \\right)} + 2 A_{isy}^{2} A_{rx}^{2} \\sin^{2}{\\left(\\alpha \\right)} \\cos^{2}{\\left(\\alpha \\right)} - A_{isy}^{2} A_{rx}^{2} e^{- 1.0 i \\chi} \\sin^{2}{\\left(\\alpha \\right)} \\cos^{2}{\\left(\\alpha \\right)} - A_{isy}^{2} A_{rx} A_{ry} e^{1.0 i \\chi} e^{1.0 i \\phi_{r}} \\sin^{3}{\\left(\\alpha \\right)} \\cos{\\left(\\alpha \\right)} + A_{isy}^{2} A_{rx} A_{ry} e^{1.0 i \\chi} e^{- 1.0 i \\phi_{r}} \\sin{\\left(\\alpha \\right)} \\cos^{3}{\\left(\\alpha \\right)} + A_{isy}^{2} A_{rx} A_{ry} e^{1.0 i \\phi_{r}} \\sin^{3}{\\left(\\alpha \\right)} \\cos{\\left(\\alpha \\right)} - A_{isy}^{2} A_{rx} A_{ry} e^{1.0 i \\phi_{r}} \\sin{\\left(\\alpha \\right)} \\cos^{3}{\\left(\\alpha \\right)} + A_{isy}^{2} A_{rx} A_{ry} e^{- 1.0 i \\phi_{r}} \\sin^{3}{\\left(\\alpha \\right)} \\cos{\\left(\\alpha \\right)} - A_{isy}^{2} A_{rx} A_{ry} e^{- 1.0 i \\phi_{r}} \\sin{\\left(\\alpha \\right)} \\cos^{3}{\\left(\\alpha \\right)} + A_{isy}^{2} A_{rx} A_{ry} e^{- 1.0 i \\chi} e^{1.0 i \\phi_{r}} \\sin{\\left(\\alpha \\right)} \\cos^{3}{\\left(\\alpha \\right)} - A_{isy}^{2} A_{rx} A_{ry} e^{- 1.0 i \\chi} e^{- 1.0 i \\phi_{r}} \\sin^{3}{\\left(\\alpha \\right)} \\cos{\\left(\\alpha \\right)} + A_{isy}^{2} A_{ry}^{2} e^{1.0 i \\chi} \\sin^{2}{\\left(\\alpha \\right)} \\cos^{2}{\\left(\\alpha \\right)} + A_{isy}^{2} A_{ry}^{2} \\sin^{4}{\\left(\\alpha \\right)} + A_{isy}^{2} A_{ry}^{2} \\cos^{4}{\\left(\\alpha \\right)} + A_{isy}^{2} A_{ry}^{2} e^{- 1.0 i \\chi} \\sin^{2}{\\left(\\alpha \\right)} \\cos^{2}{\\left(\\alpha \\right)}} \\cos{\\left(2 k x + \\mu - 2 \\operatorname{atan}_{2}{\\left(- \\sqrt{- A_{isx}^{2} e^{1.0 i \\chi} \\sin^{2}{\\left(\\alpha \\right)} \\cos^{2}{\\left(\\alpha \\right)} + 2 A_{isx}^{2} \\sin^{2}{\\left(\\alpha \\right)} \\cos^{2}{\\left(\\alpha \\right)} - A_{isx}^{2} e^{- 1.0 i \\chi} \\sin^{2}{\\left(\\alpha \\right)} \\cos^{2}{\\left(\\alpha \\right)} - A_{isx} A_{isy} e^{1.0 i \\chi} e^{1.0 i \\phi_{is}} \\sin^{3}{\\left(\\alpha \\right)} \\cos{\\left(\\alpha \\right)} + A_{isx} A_{isy} e^{1.0 i \\chi} e^{- 1.0 i \\phi_{is}} \\sin{\\left(\\alpha \\right)} \\cos^{3}{\\left(\\alpha \\right)} + A_{isx} A_{isy} e^{1.0 i \\phi_{is}} \\sin^{3}{\\left(\\alpha \\right)} \\cos{\\left(\\alpha \\right)} - A_{isx} A_{isy} e^{1.0 i \\phi_{is}} \\sin{\\left(\\alpha \\right)} \\cos^{3}{\\left(\\alpha \\right)} + A_{isx} A_{isy} e^{- 1.0 i \\phi_{is}} \\sin^{3}{\\left(\\alpha \\right)} \\cos{\\left(\\alpha \\right)} - A_{isx} A_{isy} e^{- 1.0 i \\phi_{is}} \\sin{\\left(\\alpha \\right)} \\cos^{3}{\\left(\\alpha \\right)} + A_{isx} A_{isy} e^{- 1.0 i \\chi} e^{1.0 i \\phi_{is}} \\sin{\\left(\\alpha \\right)} \\cos^{3}{\\left(\\alpha \\right)} - A_{isx} A_{isy} e^{- 1.0 i \\chi} e^{- 1.0 i \\phi_{is}} \\sin^{3}{\\left(\\alpha \\right)} \\cos{\\left(\\alpha \\right)} + A_{isy}^{2} e^{1.0 i \\chi} \\sin^{2}{\\left(\\alpha \\right)} \\cos^{2}{\\left(\\alpha \\right)} + A_{isy}^{2} \\sin^{4}{\\left(\\alpha \\right)} + A_{isy}^{2} \\cos^{4}{\\left(\\alpha \\right)} + A_{isy}^{2} e^{- 1.0 i \\chi} \\sin^{2}{\\left(\\alpha \\right)} \\cos^{2}{\\left(\\alpha \\right)}} \\sin{\\left(\\arg{\\left(A_{ry} e^{1.0 i \\phi_{r}} \\right)} - \\arg{\\left(A_{isx} \\left(1 - e^{- 1.0 i \\chi}\\right) \\sin{\\left(\\alpha \\right)} \\cos{\\left(\\alpha \\right)} + A_{isy} \\left(\\sin^{2}{\\left(\\alpha \\right)} + e^{- 1.0 i \\chi} \\cos^{2}{\\left(\\alpha \\right)}\\right) e^{1.0 i \\phi_{is}} \\right)} \\right)} \\left|{A_{ry}}\\right|,\\sqrt{- A_{isx}^{2} e^{1.0 i \\chi} \\sin^{2}{\\left(\\alpha \\right)} \\cos^{2}{\\left(\\alpha \\right)} + 2 A_{isx}^{2} \\sin^{2}{\\left(\\alpha \\right)} \\cos^{2}{\\left(\\alpha \\right)} - A_{isx}^{2} e^{- 1.0 i \\chi} \\sin^{2}{\\left(\\alpha \\right)} \\cos^{2}{\\left(\\alpha \\right)} - A_{isx} A_{isy} e^{1.0 i \\chi} e^{1.0 i \\phi_{is}} \\sin^{3}{\\left(\\alpha \\right)} \\cos{\\left(\\alpha \\right)} + A_{isx} A_{isy} e^{1.0 i \\chi} e^{- 1.0 i \\phi_{is}} \\sin{\\left(\\alpha \\right)} \\cos^{3}{\\left(\\alpha \\right)} + A_{isx} A_{isy} e^{1.0 i \\phi_{is}} \\sin^{3}{\\left(\\alpha \\right)} \\cos{\\left(\\alpha \\right)} - A_{isx} A_{isy} e^{1.0 i \\phi_{is}} \\sin{\\left(\\alpha \\right)} \\cos^{3}{\\left(\\alpha \\right)} + A_{isx} A_{isy} e^{- 1.0 i \\phi_{is}} \\sin^{3}{\\left(\\alpha \\right)} \\cos{\\left(\\alpha \\right)} - A_{isx} A_{isy} e^{- 1.0 i \\phi_{is}} \\sin{\\left(\\alpha \\right)} \\cos^{3}{\\left(\\alpha \\right)} + A_{isx} A_{isy} e^{- 1.0 i \\chi} e^{1.0 i \\phi_{is}} \\sin{\\left(\\alpha \\right)} \\cos^{3}{\\left(\\alpha \\right)} - A_{isx} A_{isy} e^{- 1.0 i \\chi} e^{- 1.0 i \\phi_{is}} \\sin^{3}{\\left(\\alpha \\right)} \\cos{\\left(\\alpha \\right)} + A_{isy}^{2} e^{1.0 i \\chi} \\sin^{2}{\\left(\\alpha \\right)} \\cos^{2}{\\left(\\alpha \\right)} + A_{isy}^{2} \\sin^{4}{\\left(\\alpha \\right)} + A_{isy}^{2} \\cos^{4}{\\left(\\alpha \\right)} + A_{isy}^{2} e^{- 1.0 i \\chi} \\sin^{2}{\\left(\\alpha \\right)} \\cos^{2}{\\left(\\alpha \\right)}} \\cos{\\left(\\arg{\\left(A_{ry} e^{1.0 i \\phi_{r}} \\right)} - \\arg{\\left(A_{isx} \\left(1 - e^{- 1.0 i \\chi}\\right) \\sin{\\left(\\alpha \\right)} \\cos{\\left(\\alpha \\right)} + A_{isy} \\left(\\sin^{2}{\\left(\\alpha \\right)} + e^{- 1.0 i \\chi} \\cos^{2}{\\left(\\alpha \\right)}\\right) e^{1.0 i \\phi_{is}} \\right)} \\right)} \\left|{A_{ry}}\\right| + \\sqrt{A_{isx}^{2} e^{1.0 i \\chi} \\sin^{2}{\\left(\\alpha \\right)} \\cos^{2}{\\left(\\alpha \\right)} + A_{isx}^{2} \\sin^{4}{\\left(\\alpha \\right)} + A_{isx}^{2} \\cos^{4}{\\left(\\alpha \\right)} + A_{isx}^{2} e^{- 1.0 i \\chi} \\sin^{2}{\\left(\\alpha \\right)} \\cos^{2}{\\left(\\alpha \\right)} + A_{isx} A_{isy} e^{1.0 i \\chi} e^{1.0 i \\phi_{is}} \\sin^{3}{\\left(\\alpha \\right)} \\cos{\\left(\\alpha \\right)} - A_{isx} A_{isy} e^{1.0 i \\chi} e^{- 1.0 i \\phi_{is}} \\sin{\\left(\\alpha \\right)} \\cos^{3}{\\left(\\alpha \\right)} - A_{isx} A_{isy} e^{1.0 i \\phi_{is}} \\sin^{3}{\\left(\\alpha \\right)} \\cos{\\left(\\alpha \\right)} + A_{isx} A_{isy} e^{1.0 i \\phi_{is}} \\sin{\\left(\\alpha \\right)} \\cos^{3}{\\left(\\alpha \\right)} - A_{isx} A_{isy} e^{- 1.0 i \\phi_{is}} \\sin^{3}{\\left(\\alpha \\right)} \\cos{\\left(\\alpha \\right)} + A_{isx} A_{isy} e^{- 1.0 i \\phi_{is}} \\sin{\\left(\\alpha \\right)} \\cos^{3}{\\left(\\alpha \\right)} - A_{isx} A_{isy} e^{- 1.0 i \\chi} e^{1.0 i \\phi_{is}} \\sin{\\left(\\alpha \\right)} \\cos^{3}{\\left(\\alpha \\right)} + A_{isx} A_{isy} e^{- 1.0 i \\chi} e^{- 1.0 i \\phi_{is}} \\sin^{3}{\\left(\\alpha \\right)} \\cos{\\left(\\alpha \\right)} - A_{isy}^{2} e^{1.0 i \\chi} \\sin^{2}{\\left(\\alpha \\right)} \\cos^{2}{\\left(\\alpha \\right)} + 2 A_{isy}^{2} \\sin^{2}{\\left(\\alpha \\right)} \\cos^{2}{\\left(\\alpha \\right)} - A_{isy}^{2} e^{- 1.0 i \\chi} \\sin^{2}{\\left(\\alpha \\right)} \\cos^{2}{\\left(\\alpha \\right)}} \\left|{A_{rx}}\\right| \\right)} \\right)}$"
      ],
      "text/plain": [
       "A_isx**2*sin(alpha)**4 + 2*A_isx**2*sin(alpha)**2*cos(alpha)**2 + A_isx**2*cos(alpha)**4 + A_isy**2*sin(alpha)**4 + 2*A_isy**2*sin(alpha)**2*cos(alpha)**2 + A_isy**2*cos(alpha)**4 + A_rx**2 + A_ry**2 + sqrt(A_isx**2*A_rx**2*exp(1.0*I*chi)*sin(alpha)**2*cos(alpha)**2 + A_isx**2*A_rx**2*sin(alpha)**4 + A_isx**2*A_rx**2*cos(alpha)**4 + A_isx**2*A_rx**2*exp(-1.0*I*chi)*sin(alpha)**2*cos(alpha)**2 + A_isx**2*A_rx*A_ry*exp(1.0*I*chi)*exp(1.0*I*phi_r)*sin(alpha)**3*cos(alpha) - A_isx**2*A_rx*A_ry*exp(1.0*I*chi)*exp(-1.0*I*phi_r)*sin(alpha)*cos(alpha)**3 - A_isx**2*A_rx*A_ry*exp(1.0*I*phi_r)*sin(alpha)**3*cos(alpha) + A_isx**2*A_rx*A_ry*exp(1.0*I*phi_r)*sin(alpha)*cos(alpha)**3 - A_isx**2*A_rx*A_ry*exp(-1.0*I*phi_r)*sin(alpha)**3*cos(alpha) + A_isx**2*A_rx*A_ry*exp(-1.0*I*phi_r)*sin(alpha)*cos(alpha)**3 - A_isx**2*A_rx*A_ry*exp(-1.0*I*chi)*exp(1.0*I*phi_r)*sin(alpha)*cos(alpha)**3 + A_isx**2*A_rx*A_ry*exp(-1.0*I*chi)*exp(-1.0*I*phi_r)*sin(alpha)**3*cos(alpha) - A_isx**2*A_ry**2*exp(1.0*I*chi)*sin(alpha)**2*cos(alpha)**2 + 2*A_isx**2*A_ry**2*sin(alpha)**2*cos(alpha)**2 - A_isx**2*A_ry**2*exp(-1.0*I*chi)*sin(alpha)**2*cos(alpha)**2 + A_isx*A_isy*A_rx**2*exp(1.0*I*chi)*exp(1.0*I*phi_is)*sin(alpha)**3*cos(alpha) - A_isx*A_isy*A_rx**2*exp(1.0*I*chi)*exp(-1.0*I*phi_is)*sin(alpha)*cos(alpha)**3 - A_isx*A_isy*A_rx**2*exp(1.0*I*phi_is)*sin(alpha)**3*cos(alpha) + A_isx*A_isy*A_rx**2*exp(1.0*I*phi_is)*sin(alpha)*cos(alpha)**3 - A_isx*A_isy*A_rx**2*exp(-1.0*I*phi_is)*sin(alpha)**3*cos(alpha) + A_isx*A_isy*A_rx**2*exp(-1.0*I*phi_is)*sin(alpha)*cos(alpha)**3 - A_isx*A_isy*A_rx**2*exp(-1.0*I*chi)*exp(1.0*I*phi_is)*sin(alpha)*cos(alpha)**3 + A_isx*A_isy*A_rx**2*exp(-1.0*I*chi)*exp(-1.0*I*phi_is)*sin(alpha)**3*cos(alpha) + A_isx*A_isy*A_rx*A_ry*exp(1.0*I*chi)*exp(1.0*I*phi_is)*exp(1.0*I*phi_r)*sin(alpha)**4 - A_isx*A_isy*A_rx*A_ry*exp(1.0*I*chi)*exp(1.0*I*phi_is)*exp(-1.0*I*phi_r)*sin(alpha)**2*cos(alpha)**2 - A_isx*A_isy*A_rx*A_ry*exp(1.0*I*chi)*exp(-1.0*I*phi_is)*exp(1.0*I*phi_r)*sin(alpha)**2*cos(alpha)**2 + A_isx*A_isy*A_rx*A_ry*exp(1.0*I*chi)*exp(-1.0*I*phi_is)*exp(-1.0*I*phi_r)*cos(alpha)**4 + 2*A_isx*A_isy*A_rx*A_ry*exp(1.0*I*phi_is)*exp(1.0*I*phi_r)*sin(alpha)**2*cos(alpha)**2 + 2*A_isx*A_isy*A_rx*A_ry*exp(1.0*I*phi_is)*exp(-1.0*I*phi_r)*sin(alpha)**2*cos(alpha)**2 + 2*A_isx*A_isy*A_rx*A_ry*exp(-1.0*I*phi_is)*exp(1.0*I*phi_r)*sin(alpha)**2*cos(alpha)**2 + 2*A_isx*A_isy*A_rx*A_ry*exp(-1.0*I*phi_is)*exp(-1.0*I*phi_r)*sin(alpha)**2*cos(alpha)**2 + A_isx*A_isy*A_rx*A_ry*exp(-1.0*I*chi)*exp(1.0*I*phi_is)*exp(1.0*I*phi_r)*cos(alpha)**4 - A_isx*A_isy*A_rx*A_ry*exp(-1.0*I*chi)*exp(1.0*I*phi_is)*exp(-1.0*I*phi_r)*sin(alpha)**2*cos(alpha)**2 - A_isx*A_isy*A_rx*A_ry*exp(-1.0*I*chi)*exp(-1.0*I*phi_is)*exp(1.0*I*phi_r)*sin(alpha)**2*cos(alpha)**2 + A_isx*A_isy*A_rx*A_ry*exp(-1.0*I*chi)*exp(-1.0*I*phi_is)*exp(-1.0*I*phi_r)*sin(alpha)**4 - A_isx*A_isy*A_ry**2*exp(1.0*I*chi)*exp(1.0*I*phi_is)*sin(alpha)**3*cos(alpha) + A_isx*A_isy*A_ry**2*exp(1.0*I*chi)*exp(-1.0*I*phi_is)*sin(alpha)*cos(alpha)**3 + A_isx*A_isy*A_ry**2*exp(1.0*I*phi_is)*sin(alpha)**3*cos(alpha) - A_isx*A_isy*A_ry**2*exp(1.0*I*phi_is)*sin(alpha)*cos(alpha)**3 + A_isx*A_isy*A_ry**2*exp(-1.0*I*phi_is)*sin(alpha)**3*cos(alpha) - A_isx*A_isy*A_ry**2*exp(-1.0*I*phi_is)*sin(alpha)*cos(alpha)**3 + A_isx*A_isy*A_ry**2*exp(-1.0*I*chi)*exp(1.0*I*phi_is)*sin(alpha)*cos(alpha)**3 - A_isx*A_isy*A_ry**2*exp(-1.0*I*chi)*exp(-1.0*I*phi_is)*sin(alpha)**3*cos(alpha) - A_isy**2*A_rx**2*exp(1.0*I*chi)*sin(alpha)**2*cos(alpha)**2 + 2*A_isy**2*A_rx**2*sin(alpha)**2*cos(alpha)**2 - A_isy**2*A_rx**2*exp(-1.0*I*chi)*sin(alpha)**2*cos(alpha)**2 - A_isy**2*A_rx*A_ry*exp(1.0*I*chi)*exp(1.0*I*phi_r)*sin(alpha)**3*cos(alpha) + A_isy**2*A_rx*A_ry*exp(1.0*I*chi)*exp(-1.0*I*phi_r)*sin(alpha)*cos(alpha)**3 + A_isy**2*A_rx*A_ry*exp(1.0*I*phi_r)*sin(alpha)**3*cos(alpha) - A_isy**2*A_rx*A_ry*exp(1.0*I*phi_r)*sin(alpha)*cos(alpha)**3 + A_isy**2*A_rx*A_ry*exp(-1.0*I*phi_r)*sin(alpha)**3*cos(alpha) - A_isy**2*A_rx*A_ry*exp(-1.0*I*phi_r)*sin(alpha)*cos(alpha)**3 + A_isy**2*A_rx*A_ry*exp(-1.0*I*chi)*exp(1.0*I*phi_r)*sin(alpha)*cos(alpha)**3 - A_isy**2*A_rx*A_ry*exp(-1.0*I*chi)*exp(-1.0*I*phi_r)*sin(alpha)**3*cos(alpha) + A_isy**2*A_ry**2*exp(1.0*I*chi)*sin(alpha)**2*cos(alpha)**2 + A_isy**2*A_ry**2*sin(alpha)**4 + A_isy**2*A_ry**2*cos(alpha)**4 + A_isy**2*A_ry**2*exp(-1.0*I*chi)*sin(alpha)**2*cos(alpha)**2)*cos(2*k*x + mu - 2*atan2(-sqrt(-A_isx**2*exp(1.0*I*chi)*sin(alpha)**2*cos(alpha)**2 + 2*A_isx**2*sin(alpha)**2*cos(alpha)**2 - A_isx**2*exp(-1.0*I*chi)*sin(alpha)**2*cos(alpha)**2 - A_isx*A_isy*exp(1.0*I*chi)*exp(1.0*I*phi_is)*sin(alpha)**3*cos(alpha) + A_isx*A_isy*exp(1.0*I*chi)*exp(-1.0*I*phi_is)*sin(alpha)*cos(alpha)**3 + A_isx*A_isy*exp(1.0*I*phi_is)*sin(alpha)**3*cos(alpha) - A_isx*A_isy*exp(1.0*I*phi_is)*sin(alpha)*cos(alpha)**3 + A_isx*A_isy*exp(-1.0*I*phi_is)*sin(alpha)**3*cos(alpha) - A_isx*A_isy*exp(-1.0*I*phi_is)*sin(alpha)*cos(alpha)**3 + A_isx*A_isy*exp(-1.0*I*chi)*exp(1.0*I*phi_is)*sin(alpha)*cos(alpha)**3 - A_isx*A_isy*exp(-1.0*I*chi)*exp(-1.0*I*phi_is)*sin(alpha)**3*cos(alpha) + A_isy**2*exp(1.0*I*chi)*sin(alpha)**2*cos(alpha)**2 + A_isy**2*sin(alpha)**4 + A_isy**2*cos(alpha)**4 + A_isy**2*exp(-1.0*I*chi)*sin(alpha)**2*cos(alpha)**2)*sin(arg(A_ry*exp(1.0*I*phi_r)) - arg(A_isx*(1 - exp(-1.0*I*chi))*sin(alpha)*cos(alpha) + A_isy*(sin(alpha)**2 + exp(-1.0*I*chi)*cos(alpha)**2)*exp(1.0*I*phi_is)))*Abs(A_ry), sqrt(-A_isx**2*exp(1.0*I*chi)*sin(alpha)**2*cos(alpha)**2 + 2*A_isx**2*sin(alpha)**2*cos(alpha)**2 - A_isx**2*exp(-1.0*I*chi)*sin(alpha)**2*cos(alpha)**2 - A_isx*A_isy*exp(1.0*I*chi)*exp(1.0*I*phi_is)*sin(alpha)**3*cos(alpha) + A_isx*A_isy*exp(1.0*I*chi)*exp(-1.0*I*phi_is)*sin(alpha)*cos(alpha)**3 + A_isx*A_isy*exp(1.0*I*phi_is)*sin(alpha)**3*cos(alpha) - A_isx*A_isy*exp(1.0*I*phi_is)*sin(alpha)*cos(alpha)**3 + A_isx*A_isy*exp(-1.0*I*phi_is)*sin(alpha)**3*cos(alpha) - A_isx*A_isy*exp(-1.0*I*phi_is)*sin(alpha)*cos(alpha)**3 + A_isx*A_isy*exp(-1.0*I*chi)*exp(1.0*I*phi_is)*sin(alpha)*cos(alpha)**3 - A_isx*A_isy*exp(-1.0*I*chi)*exp(-1.0*I*phi_is)*sin(alpha)**3*cos(alpha) + A_isy**2*exp(1.0*I*chi)*sin(alpha)**2*cos(alpha)**2 + A_isy**2*sin(alpha)**4 + A_isy**2*cos(alpha)**4 + A_isy**2*exp(-1.0*I*chi)*sin(alpha)**2*cos(alpha)**2)*cos(arg(A_ry*exp(1.0*I*phi_r)) - arg(A_isx*(1 - exp(-1.0*I*chi))*sin(alpha)*cos(alpha) + A_isy*(sin(alpha)**2 + exp(-1.0*I*chi)*cos(alpha)**2)*exp(1.0*I*phi_is)))*Abs(A_ry) + sqrt(A_isx**2*exp(1.0*I*chi)*sin(alpha)**2*cos(alpha)**2 + A_isx**2*sin(alpha)**4 + A_isx**2*cos(alpha)**4 + A_isx**2*exp(-1.0*I*chi)*sin(alpha)**2*cos(alpha)**2 + A_isx*A_isy*exp(1.0*I*chi)*exp(1.0*I*phi_is)*sin(alpha)**3*cos(alpha) - A_isx*A_isy*exp(1.0*I*chi)*exp(-1.0*I*phi_is)*sin(alpha)*cos(alpha)**3 - A_isx*A_isy*exp(1.0*I*phi_is)*sin(alpha)**3*cos(alpha) + A_isx*A_isy*exp(1.0*I*phi_is)*sin(alpha)*cos(alpha)**3 - A_isx*A_isy*exp(-1.0*I*phi_is)*sin(alpha)**3*cos(alpha) + A_isx*A_isy*exp(-1.0*I*phi_is)*sin(alpha)*cos(alpha)**3 - A_isx*A_isy*exp(-1.0*I*chi)*exp(1.0*I*phi_is)*sin(alpha)*cos(alpha)**3 + A_isx*A_isy*exp(-1.0*I*chi)*exp(-1.0*I*phi_is)*sin(alpha)**3*cos(alpha) - A_isy**2*exp(1.0*I*chi)*sin(alpha)**2*cos(alpha)**2 + 2*A_isy**2*sin(alpha)**2*cos(alpha)**2 - A_isy**2*exp(-1.0*I*chi)*sin(alpha)**2*cos(alpha)**2)*Abs(A_rx)))"
      ]
     },
     "execution_count": 72,
     "metadata": {},
     "output_type": "execute_result"
    }
   ],
   "source": [
    "I"
   ]
  },
  {
   "cell_type": "code",
   "execution_count": 73,
   "metadata": {},
   "outputs": [
    {
     "data": {
      "text/latex": [
       "$\\displaystyle 2.0$"
      ],
      "text/plain": [
       "2.00000000000000"
      ]
     },
     "execution_count": 73,
     "metadata": {},
     "output_type": "execute_result"
    }
   ],
   "source": [
    "lambda_ = 532e-9\n",
    "\n",
    "# Ejemplo de evaluación\n",
    "values = {\n",
    "    alpha: 0,\n",
    "    chi: 0, \n",
    "    mu: 0,\n",
    "    k: 2 * sp.pi /lambda_, \n",
    "    x: 'x',\n",
    "    phi_is: sp.pi/2,\n",
    "    phi_r: sp.pi/2,\n",
    "    A_isx: 1/sp.sqrt(2),\n",
    "    A_isy: 1/sp.sqrt(2),\n",
    "    A_rx: 1/sp.sqrt(2),\n",
    "    A_ry: 1/sp.sqrt(2)\n",
    "}\n",
    "\n",
    "I_evaluated = I.subs(values).evalf()\n",
    "I_evaluated\n",
    "\n"
   ]
  },
  {
   "cell_type": "code",
   "execution_count": 78,
   "metadata": {},
   "outputs": [],
   "source": [
    "# Parámetros físicos\n",
    "lambda_ = 532e-9  # Longitud de onda en metros\n",
    "x_size, y_size = 10, 5  # Dimensiones\n",
    "\n",
    "# Escalas de conversión de píxeles a metros\n",
    "x_scale, y_scale = lambda_ / x_size, lambda_ / y_size\n",
    "\n",
    "# Crear coordenadas físicas directamente\n",
    "X_meters, Y_meters = np.meshgrid(np.arange(x_size) * x_scale, np.arange(y_size) * y_scale)\n",
    "\n",
    "# Dimensión combinada en coordenadas físicas\n",
    "dim = X_meters + Y_meters\n",
    "\n",
    "values = {\n",
    "    alpha: 0,\n",
    "    chi: 0,\n",
    "    mu: 0,\n",
    "    k: 2 * sp.pi / lambda_,\n",
    "    x: x,  # Se evalúa luego directamente sobre la malla\n",
    "    phi_is: sp.pi/2,\n",
    "    phi_r: sp.pi/2,\n",
    "    A_isx: 1/sp.sqrt(2),\n",
    "    A_isy: 1/sp.sqrt(2),\n",
    "    A_rx: 1/sp.sqrt(2),\n",
    "    A_ry: 1/sp.sqrt(2)\n",
    "}\n",
    "\n",
    "# Optimización: Evaluar la expresión completa sobre la malla\n",
    "I_evaluated = np.vectorize(lambda px: I.subs(values).subs(x, px).evalf())(dim)\n",
    "\n"
   ]
  }
 ],
 "metadata": {
  "kernelspec": {
   "display_name": "base",
   "language": "python",
   "name": "python3"
  },
  "language_info": {
   "codemirror_mode": {
    "name": "ipython",
    "version": 3
   },
   "file_extension": ".py",
   "mimetype": "text/x-python",
   "name": "python",
   "nbconvert_exporter": "python",
   "pygments_lexer": "ipython3",
   "version": "3.12.4"
  }
 },
 "nbformat": 4,
 "nbformat_minor": 2
}
