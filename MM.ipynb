{
 "cells": [
  {
   "cell_type": "code",
   "execution_count": 132,
   "metadata": {},
   "outputs": [],
   "source": [
    "import numpy as np\n",
    "import matplotlib.pyplot as plt\n",
    "import cv2"
   ]
  },
  {
   "cell_type": "code",
   "execution_count": 133,
   "metadata": {},
   "outputs": [],
   "source": [
    "def I(E_r, E_s, S=0, mu=0, plot=False):\n",
    "    lambda_ = 532e-9  # Longitud de onda en metros\n",
    "    k = 2 * np.pi / lambda_  # Número de onda\n",
    "    x = np.linspace(-k, k, 500)  # Rango de posiciones en el eje x\n",
    "    \n",
    "    # Cálculo de términos de intensidad\n",
    "    Omega = np.linalg.norm(E_r)**2 + np.linalg.norm(E_s)**2\n",
    "    Psi = np.abs(np.dot(E_r.T, E_s))[0, 0]\n",
    "    \n",
    "    # Cálculo de la fase relativa vartheta\n",
    "    numerador = -np.abs(E_r[1]) * np.abs(E_s[1]) * np.sin(np.angle(E_r[1]) - np.angle(E_s[1]))\n",
    "    denominador = np.abs(E_r[0]) * np.abs(E_s[0]) + np.abs(E_r[1]) * np.abs(E_s[1]) * np.cos(np.angle(E_r[1]) - np.angle(E_s[1]))\n",
    "    vartheta = np.arctan2(numerador, denominador)\n",
    "    \n",
    "    # Modulación de fase\n",
    "    zeta = k * x - vartheta\n",
    "    cos_term = np.cos(mu + zeta)\n",
    "    I = Omega + Psi * cos_term\n",
    "    info = [Omega, Psi, vartheta]\n",
    "\n",
    "    # Normalización de la intensidad para escalar entre 0 y 255 (imagen en escala de grises)\n",
    "    I_norm = (I - I.min()) / (I.max() - I.min()) * 255\n",
    "    I_norm = np.uint8(I_norm)\n",
    "\n",
    "    # Crear imagen de patrón de interferencia en escala de grises\n",
    "    height = 500  # Altura de la imagen en píxeles\n",
    "    pattern_image = np.tile(I_norm, (height, 1))\n",
    "\n",
    "    # Aplicar un filtro Gaussiano para suavizar las franjas\n",
    "    pattern_image = cv2.GaussianBlur(pattern_image, (5, 5), 0)\n",
    "    \n",
    "    if plot:\n",
    "        # Graficar el interferograma\n",
    "        plt.figure(figsize=(8, 6))\n",
    "        plt.imshow(pattern_image, cmap='gray', aspect='auto', extent=[x.min(), x.max(), 0, height])\n",
    "        plt.xlabel(\"x\")\n",
    "        plt.ylabel(\"Intensidad\")\n",
    "        plt.title(\"Interferograma\")\n",
    "        #plt.colorbar(label='Intensidad Normalizada')\n",
    "        plt.show()\n",
    "    \n",
    "    return info ,I\n"
   ]
  },
  {
   "cell_type": "code",
   "execution_count": 187,
   "metadata": {},
   "outputs": [
    {
     "name": "stdout",
     "output_type": "stream",
     "text": [
      "[1.]\n",
      "[2.]\n",
      "[0.52990279]\n",
      "[0.78539816]\n"
     ]
    }
   ],
   "source": [
    "Er_1 = np.array([[1], [0]])  \n",
    "Er_2 = np.array([[1], [1]])  \n",
    "Es = np.array([[1], [2*np.exp(1j * np.pi/4)]])\n",
    "\n",
    "info_1, i_1 = I(Er_1,Es)\n",
    "info_2, i_2 = I(Er_2,Es)\n",
    "\n",
    "Esx = info_1[1]/np.abs(Er_1[0])\n",
    "Esy = np.sqrt(info_1[0] - Esx**2 - Er_1[0]**2)\n",
    "\n",
    "Es_c = np.array([[Esx], [Esy]])  \n",
    "\n",
    "# Calculamos el numerador y denominador\n",
    "numerador = (np.linalg.norm(Er_2)**2 + np.linalg.norm(Es_c)**2) * np.tan(info_2[2])[0]\n",
    "denominador = np.linalg.norm(Er_2)**2 + np.linalg.norm(Es_c)**2 + 2 * np.abs(Er_2[0])[0] * np.abs(Es_c[0])[0] * np.abs(Er_2[1])[0] * np.abs(Es_c[1])[0]\n",
    "\n",
    "\n",
    "\n",
    "# Calculamos la fase usando atan2\n",
    "#delta_phi_s =  np.arctan2(numerador,denominador)\n",
    "delta_phi_s = info_2[2]\n",
    "\n",
    "print(Esx)\n",
    "print(Esy)\n",
    "print(delta_phi_s)\n",
    "print(np.angle(Es[1]))"
   ]
  },
  {
   "cell_type": "code",
   "execution_count": 191,
   "metadata": {},
   "outputs": [
    {
     "name": "stdout",
     "output_type": "stream",
     "text": [
      "[(0.785398163397449,)]\n"
     ]
    }
   ],
   "source": [
    "import sympy as sp\n",
    "\n",
    "# Definir variables simbólicas\n",
    "vartheta = info_2[2]  # Definir como variable simbólica si no está definida\n",
    "phi_s = sp.Symbol('Delta_phi_s')  # Incógnita a despejar\n",
    "\n",
    "# Definir matrices simbólicas\n",
    "Es_c = sp.Matrix([[1], [2]])  \n",
    "Er_2 = sp.Matrix([[1], [1]])  \n",
    "\n",
    "# Extraer elementos como escalares\n",
    "Es_c_1 = Es_c[0, 0]\n",
    "Es_c_2 = Es_c[1, 0]\n",
    "Er_2_1 = Er_2[0, 0]\n",
    "Er_2_2 = Er_2[1, 0]\n",
    "\n",
    "# Expresión corregida con elementos escalares\n",
    "expr = sp.atan2(-Er_2_2 * Es_c_2 * sp.sin(-phi_s), \n",
    "                Er_2_1 * Es_c_1 + Er_2_2 * Es_c_2 * sp.cos(-phi_s)) - vartheta\n",
    "\n",
    "# Resolver para Δφ_s\n",
    "solution = sp.solve(expr, phi_s)\n",
    "\n",
    "# Imprimir solución\n",
    "print(solution if solution else \"No se encontraron soluciones simbólicas.\")\n"
   ]
  },
  {
   "cell_type": "code",
   "execution_count": null,
   "metadata": {},
   "outputs": [
    {
     "ename": "ValueError",
     "evalue": "\nexpected a one-dimensional and numerical function",
     "output_type": "error",
     "traceback": [
      "\u001b[1;31m---------------------------------------------------------------------------\u001b[0m",
      "\u001b[1;31mValueError\u001b[0m                                Traceback (most recent call last)",
      "Cell \u001b[1;32mIn[190], line 16\u001b[0m\n\u001b[0;32m     12\u001b[0m expr \u001b[38;5;241m=\u001b[39m sp\u001b[38;5;241m.\u001b[39matan2(\u001b[38;5;241m-\u001b[39mEr_2_2 \u001b[38;5;241m*\u001b[39m Es_c_2 \u001b[38;5;241m*\u001b[39m sp\u001b[38;5;241m.\u001b[39msin(\u001b[38;5;241m-\u001b[39mphi_s), \n\u001b[0;32m     13\u001b[0m                 Er_2_1 \u001b[38;5;241m*\u001b[39m Es_c_1 \u001b[38;5;241m+\u001b[39m Er_2_2 \u001b[38;5;241m*\u001b[39m Es_c_2 \u001b[38;5;241m*\u001b[39m sp\u001b[38;5;241m.\u001b[39mcos(\u001b[38;5;241m-\u001b[39mphi_s)) \u001b[38;5;241m-\u001b[39m vartheta\n\u001b[0;32m     15\u001b[0m \u001b[38;5;66;03m# Resolver para Δφ_s\u001b[39;00m\n\u001b[1;32m---> 16\u001b[0m solution \u001b[38;5;241m=\u001b[39m sp\u001b[38;5;241m.\u001b[39mnsolve(expr, phi_s)\n\u001b[0;32m     18\u001b[0m \u001b[38;5;66;03m# Imprimir solución simbólica\u001b[39;00m\n\u001b[0;32m     19\u001b[0m \u001b[38;5;28mprint\u001b[39m(solution \u001b[38;5;28;01mif\u001b[39;00m solution \u001b[38;5;28;01melse\u001b[39;00m \u001b[38;5;124m\"\u001b[39m\u001b[38;5;124mNo se encontraron soluciones simbólicas.\u001b[39m\u001b[38;5;124m\"\u001b[39m)\n",
      "File \u001b[1;32mc:\\ProgramData\\anaconda3\\Lib\\site-packages\\sympy\\utilities\\decorator.py:87\u001b[0m, in \u001b[0;36mconserve_mpmath_dps.<locals>.func_wrapper\u001b[1;34m(*args, **kwargs)\u001b[0m\n\u001b[0;32m     85\u001b[0m dps \u001b[38;5;241m=\u001b[39m mpmath\u001b[38;5;241m.\u001b[39mmp\u001b[38;5;241m.\u001b[39mdps\n\u001b[0;32m     86\u001b[0m \u001b[38;5;28;01mtry\u001b[39;00m:\n\u001b[1;32m---> 87\u001b[0m     \u001b[38;5;28;01mreturn\u001b[39;00m func(\u001b[38;5;241m*\u001b[39margs, \u001b[38;5;241m*\u001b[39m\u001b[38;5;241m*\u001b[39mkwargs)\n\u001b[0;32m     88\u001b[0m \u001b[38;5;28;01mfinally\u001b[39;00m:\n\u001b[0;32m     89\u001b[0m     mpmath\u001b[38;5;241m.\u001b[39mmp\u001b[38;5;241m.\u001b[39mdps \u001b[38;5;241m=\u001b[39m dps\n",
      "File \u001b[1;32mc:\\ProgramData\\anaconda3\\Lib\\site-packages\\sympy\\solvers\\solvers.py:3035\u001b[0m, in \u001b[0;36mnsolve\u001b[1;34m(dict, *args, **kwargs)\u001b[0m\n\u001b[0;32m   3033\u001b[0m     fargs \u001b[38;5;241m=\u001b[39m syms\u001b[38;5;241m.\u001b[39mcopy()\u001b[38;5;241m.\u001b[39mpop()\n\u001b[0;32m   3034\u001b[0m \u001b[38;5;28;01mif\u001b[39;00m \u001b[38;5;129;01mnot\u001b[39;00m (\u001b[38;5;28mlen\u001b[39m(syms) \u001b[38;5;241m==\u001b[39m \u001b[38;5;241m1\u001b[39m \u001b[38;5;129;01mand\u001b[39;00m (fargs \u001b[38;5;129;01min\u001b[39;00m syms \u001b[38;5;129;01mor\u001b[39;00m fargs[\u001b[38;5;241m0\u001b[39m] \u001b[38;5;129;01min\u001b[39;00m syms)):\n\u001b[1;32m-> 3035\u001b[0m     \u001b[38;5;28;01mraise\u001b[39;00m \u001b[38;5;167;01mValueError\u001b[39;00m(filldedent(\u001b[38;5;124m'''\u001b[39m\n\u001b[0;32m   3036\u001b[0m \u001b[38;5;124m        expected a one-dimensional and numerical function\u001b[39m\u001b[38;5;124m'''\u001b[39m))\n\u001b[0;32m   3038\u001b[0m \u001b[38;5;66;03m# the function is much better behaved if there is no denominator\u001b[39;00m\n\u001b[0;32m   3039\u001b[0m \u001b[38;5;66;03m# but sending the numerator is left to the user since sometimes\u001b[39;00m\n\u001b[0;32m   3040\u001b[0m \u001b[38;5;66;03m# the function is better behaved when the denominator is present\u001b[39;00m\n\u001b[0;32m   3041\u001b[0m \u001b[38;5;66;03m# e.g., issue 11768\u001b[39;00m\n\u001b[0;32m   3043\u001b[0m f \u001b[38;5;241m=\u001b[39m lambdify(fargs, f, modules)\n",
      "\u001b[1;31mValueError\u001b[0m: \nexpected a one-dimensional and numerical function"
     ]
    }
   ],
   "source": [
    "import sympy as sp\n",
    "\n",
    "# Definir variables simbólicas\n",
    "vartheta = sp.Symbol('vartheta')  \n",
    "phi_s = sp.Symbol('Delta_phi_s')  \n",
    "\n",
    "# Definir elementos simbólicos de las matrices\n",
    "Es_c_1, Es_c_2 = sp.symbols('Es_c_1 Es_c_2')\n",
    "Er_2_1, Er_2_2 = sp.symbols('Er_2_1 Er_2_2')\n",
    "\n",
    "# Expresión general con variables simbólicas\n",
    "expr = sp.atan2(-Er_2_2 * Es_c_2 * sp.sin(-phi_s), \n",
    "                Er_2_1 * Es_c_1 + Er_2_2 * Es_c_2 * sp.cos(-phi_s)) - vartheta\n",
    "\n",
    "# Resolver para Δφ_s\n",
    "solution = sp.solve(expr, phi_s)\n",
    "\n",
    "# Imprimir solución simbólica\n",
    "print(solution if solution else \"No se encontraron soluciones simbólicas.\")\n"
   ]
  }
 ],
 "metadata": {
  "kernelspec": {
   "display_name": "base",
   "language": "python",
   "name": "python3"
  },
  "language_info": {
   "codemirror_mode": {
    "name": "ipython",
    "version": 3
   },
   "file_extension": ".py",
   "mimetype": "text/x-python",
   "name": "python",
   "nbconvert_exporter": "python",
   "pygments_lexer": "ipython3",
   "version": "3.12.4"
  }
 },
 "nbformat": 4,
 "nbformat_minor": 2
}
